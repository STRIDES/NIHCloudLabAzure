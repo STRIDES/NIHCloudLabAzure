{
 "cells": [
  {
   "cell_type": "markdown",
   "id": "31e8c3cd",
   "metadata": {},
   "source": [
    "# Pangolin SARS-CoV-2 Pipeline Notebook"
   ]
  },
  {
   "cell_type": "markdown",
   "id": "78c75f29",
   "metadata": {},
   "source": [
    "## Overview \n",
    "SARS-CoV-2 sequence is usually analyzed using a bioinformatic pipeline called Pangolin. Here we will download some genomic data and run Pangolin following [standard instructions](https://cov-lineages.org/resources/pangolin/usage.html). "
   ]
  },
  {
   "cell_type": "markdown",
   "id": "946c1036",
   "metadata": {},
   "source": [
    "## Prerequisites\n",
    "We assume you have access to Azure AI Studio and have already deployed an LLM "
   ]
  },
  {
   "cell_type": "markdown",
   "id": "20634bb4",
   "metadata": {},
   "source": [
    "## Learning objectives\n",
    "+ Download genomic data from NCBI from the commnd line\n",
    "+ Run pangolin to identify viral lineages\n",
    "+ Generate a phylogeny to visualize lineage identity"
   ]
  },
  {
   "cell_type": "markdown",
   "id": "fc3a7729",
   "metadata": {},
   "source": [
    "## Get started"
   ]
  },
  {
   "cell_type": "markdown",
   "id": "03541941",
   "metadata": {},
   "source": [
    "### Install packages"
   ]
  },
  {
   "cell_type": "code",
   "execution_count": null,
   "id": "f994b990",
   "metadata": {},
   "outputs": [],
   "source": [
    "#change this depending on how many threads are available in your notebook\n",
    "CPU=4"
   ]
  },
  {
   "cell_type": "code",
   "execution_count": null,
   "id": "a19b662e",
   "metadata": {
    "scrolled": true,
    "tags": []
   },
   "outputs": [],
   "source": [
    "! curl -L -O https://github.com/conda-forge/miniforge/releases/latest/download/Mambaforge-$(uname)-$(uname -m).sh\n",
    "! bash Mambaforge-$(uname)-$(uname -m).sh -u -b -p $HOME/mambaforge"
   ]
  },
  {
   "cell_type": "code",
   "execution_count": null,
   "id": "a40f7ebc",
   "metadata": {},
   "outputs": [],
   "source": [
    "#add to your path\n",
    "import os\n",
    "os.environ[\"PATH\"] += os.pathsep + os.environ[\"HOME\"]+\"/mambaforge/bin\""
   ]
  },
  {
   "cell_type": "code",
   "execution_count": null,
   "id": "f421805e",
   "metadata": {},
   "outputs": [],
   "source": [
    "#install biopython to import packages below\n",
    "! pip install biopython==1.74"
   ]
  },
  {
   "cell_type": "code",
   "execution_count": null,
   "id": "6e6964a2-848f-4b15-b0ba-161ae8ecdc36",
   "metadata": {},
   "outputs": [],
   "source": [
    "! mamba install pangolin=4.1.1 -c conda-forge -c bioconda -y"
   ]
  },
  {
   "cell_type": "code",
   "execution_count": null,
   "id": "fd936fd6",
   "metadata": {
    "scrolled": true,
    "tags": []
   },
   "outputs": [],
   "source": [
    "! mamba install ipyrad iqtree -c conda-forge -c bioconda -y"
   ]
  },
  {
   "cell_type": "code",
   "execution_count": null,
   "id": "5a99cf0d",
   "metadata": {},
   "outputs": [],
   "source": [
    "#import libraries\n",
    "import os\n",
    "from Bio import SeqIO\n",
    "from Bio import Entrez\n",
    "import ipyrad as ipa\n",
    "import toytree"
   ]
  },
  {
   "cell_type": "markdown",
   "id": "359978ce",
   "metadata": {},
   "source": [
    "### Set up directory structure"
   ]
  },
  {
   "cell_type": "code",
   "execution_count": null,
   "id": "8f831fca",
   "metadata": {},
   "outputs": [],
   "source": [
    "if not os.path.exists('pangolin_analysis'):\n",
    "    os.mkdir('pangolin_analysis')\n",
    "os.chdir('pangolin_analysis')"
   ]
  },
  {
   "cell_type": "code",
   "execution_count": null,
   "id": "6423ca5d",
   "metadata": {},
   "outputs": [],
   "source": [
    "if os.path.exists('sarscov2_sequences.fasta'):\n",
    "    os.remove('sarscov2_sequences.fasta')\n",
    "!rm sarscov2_*\n",
    "!rm lineage_report.csv"
   ]
  },
  {
   "cell_type": "markdown",
   "id": "9d7015e6",
   "metadata": {},
   "source": [
    "### Fetch viral sequences using a list of accession IDs"
   ]
  },
  {
   "cell_type": "code",
   "execution_count": null,
   "id": "16824bcf",
   "metadata": {},
   "outputs": [],
   "source": [
    "#give a list of accession number for covid sequences\n",
    "acc_nums=['NC_045512','LR757995','LR757996','OL698718','OL677199','OL672836','MZ914912','MZ916499','MZ908464','MW580573','MW580574','MW580576','MW991906','MW931310','MW932027','MW424864','MW453109','MW453110']\n",
    "print('the number of sequences we will analyze = ',len(acc_nums))"
   ]
  },
  {
   "cell_type": "markdown",
   "id": "9e382d33",
   "metadata": {},
   "source": [
    "Let this block run without going to the next until it finishes, otherwise you may get an error about too many requests. If that happens, reset your kernel and just rerun everything (except installing software)."
   ]
  },
  {
   "cell_type": "code",
   "execution_count": null,
   "id": "a28a7122",
   "metadata": {},
   "outputs": [],
   "source": [
    "#use the bio.entrez toolkit within biopython to download the accession numbers\n",
    "#save those sequences to a single fasta file\n",
    "Entrez.email = \"email@example.com\"  # Always tell NCBI who you are\n",
    "filename = \"sarscov2_seqs.fasta\"\n",
    "if not os.path.isfile(filename):\n",
    "    # Downloading...\n",
    "    for acc in acc_nums:\n",
    "        net_handle = Entrez.efetch(\n",
    "            db=\"nucleotide\", id=acc, rettype=\"fasta\", retmode=\"text\"\n",
    "        )\n",
    "        out_handle = open(filename, \"a\")\n",
    "        out_handle.write(net_handle.read())\n",
    "        out_handle.close()\n",
    "        net_handle.close()\n",
    "        print(\"Saved\",acc)"
   ]
  },
  {
   "cell_type": "code",
   "execution_count": null,
   "id": "56acb7cc",
   "metadata": {},
   "outputs": [],
   "source": [
    "#make sure our fasta file has the same number of seqs as the acc_nums list\n",
    "print('the number of seqs in our fasta file: ')\n",
    "! grep '>' sarscov2_seqs.fasta | wc -l"
   ]
  },
  {
   "cell_type": "code",
   "execution_count": null,
   "id": "8606c352",
   "metadata": {},
   "outputs": [],
   "source": [
    "#let's peek at our new fasta file\n",
    "! head sarscov2_seqs.fasta"
   ]
  },
  {
   "cell_type": "markdown",
   "id": "2db37b4e",
   "metadata": {
    "tags": []
   },
   "source": [
    "### Run pangolin to identify lineages and output alignment\n",
    "Here we call pangolin, give it our input sequences and the number of threads. We also tell it to output the alignment. The full list of pangolin parameters can be found in the [docs](https://cov-lineages.org/resources/pangolin/usage.html)."
   ]
  },
  {
   "cell_type": "code",
   "execution_count": null,
   "id": "b0a2e767-2da5-496d-ac4e-54384ef383eb",
   "metadata": {},
   "outputs": [],
   "source": [
    "! pangolin -h"
   ]
  },
  {
   "cell_type": "code",
   "execution_count": null,
   "id": "f1a17a74",
   "metadata": {},
   "outputs": [],
   "source": [
    "! pangolin sarscov2_seqs.fasta --alignment --threads $CPU"
   ]
  },
  {
   "cell_type": "markdown",
   "id": "b0e56a4b",
   "metadata": {},
   "source": [
    "You can view the output file from pangolin called lineage_report.csv (within pangolin_analysis folder) by double clicking on the file, or by right clicking and downloading. What lineages are present in the dataset? Is Omicron in there?"
   ]
  },
  {
   "cell_type": "markdown",
   "id": "37e6efbe",
   "metadata": {},
   "source": [
    "### Run iqtree to estimate maximum likelihood tree for our sequences\n",
    "iqtree can find the best nucleotide model for the data, but here we are going to assign a model to save time (HKY) and just estimate the phylogeny without any bootstrap support values. "
   ]
  },
  {
   "cell_type": "code",
   "execution_count": null,
   "id": "f2782855",
   "metadata": {},
   "outputs": [],
   "source": [
    "#run iqtree with threads = $CPU variable, if you exclude the -m it will do a phylogenetic model search before tree search\n",
    "! iqtree -s sequences.aln.fasta -nt $CPU -m HKY --prefix sarscov2_tree --redo-tree"
   ]
  },
  {
   "cell_type": "markdown",
   "id": "c7197dd4",
   "metadata": {},
   "source": [
    "### Visualize the tree with toytree"
   ]
  },
  {
   "cell_type": "code",
   "execution_count": null,
   "id": "cef2ba18",
   "metadata": {},
   "outputs": [],
   "source": [
    "#Define the tree file\n",
    "tre = toytree.tree('sarscov2_tree.treefile')"
   ]
  },
  {
   "cell_type": "code",
   "execution_count": null,
   "id": "842af165",
   "metadata": {},
   "outputs": [],
   "source": [
    "#draw the tree\n",
    "rtre = tre.root(wildcard=\"OL\")\n",
    "rtre.draw(tip_labels_align=True);"
   ]
  },
  {
   "cell_type": "markdown",
   "id": "52d9389f",
   "metadata": {},
   "source": [
    "You can also visualize the tree by downloading it and opening in figtree."
   ]
  },
  {
   "cell_type": "markdown",
   "id": "b476989f",
   "metadata": {},
   "source": [
    "## Conclusions\n",
    "Here you learned how to use Azure ML Studio to conduct a basic phylogenetic analysis"
   ]
  },
  {
   "cell_type": "markdown",
   "id": "52aa3848",
   "metadata": {},
   "source": [
    "## Clean Up\n",
    "Make sure you stop your compute instance and if desired, delete the resource group associated with this tutorial."
   ]
  }
 ],
 "metadata": {
  "environment": {
   "kernel": "python3",
   "name": "r-cpu.4-1.m87",
   "type": "gcloud",
   "uri": "gcr.io/deeplearning-platform-release/r-cpu.4-1:m87"
  },
  "kernelspec": {
   "display_name": "Python 3.10 - SDK v2",
   "language": "python",
   "name": "python310-sdkv2"
  },
  "language_info": {
   "codemirror_mode": {
    "name": "ipython",
    "version": 3
   },
   "file_extension": ".py",
   "mimetype": "text/x-python",
   "name": "python",
   "nbconvert_exporter": "python",
   "pygments_lexer": "ipython3",
   "version": "3.10.11"
  }
 },
 "nbformat": 4,
 "nbformat_minor": 5
}
