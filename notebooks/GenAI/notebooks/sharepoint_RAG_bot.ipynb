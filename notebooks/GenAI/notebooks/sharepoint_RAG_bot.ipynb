{
 "cells": [
  {
   "cell_type": "markdown",
   "id": "3c89a9bb-588a-48e8-983d-d532998aae4b",
   "metadata": {},
   "source": [
    "# Creating a SharePoint Chatbot"
   ]
  },
  {
   "cell_type": "markdown",
   "id": "2c7010dc-be83-40c1-9f2c-7024c727da4c",
   "metadata": {},
   "source": [
    "## Overview"
   ]
  },
  {
   "cell_type": "markdown",
   "id": "2a156351-e155-47f0-ba98-ef38817889a0",
   "metadata": {},
   "source": [
    "In previous tutorials we have learned how to create chatbots by connecting to multiple Azure services such as Azure AI Search and Azure SQL Databases. For this tutorial we learn how to create a SharePoint chatbot by indexing a that SharePoint site using Azure AI Search."
   ]
  },
  {
   "cell_type": "markdown",
   "id": "762af843-1fc2-4c8d-8876-2d984c43b4fa",
   "metadata": {},
   "source": [
    "## Prerequisites"
   ]
  },
  {
   "cell_type": "markdown",
   "id": "1b129810-a3af-47c2-b9db-8e68427e746e",
   "metadata": {},
   "source": [
    "We assume you have access to Azure AI Studio and have already deployed an LLM. For this tutorial we used gpt 3.5 and used the Python 3.10 kernel within our Azure Jupyter notebook."
   ]
  },
  {
   "cell_type": "markdown",
   "id": "edbca922-1026-4a77-80a1-a0b5694e36ec",
   "metadata": {},
   "source": [
    "## Learning objectives"
   ]
  },
  {
   "cell_type": "markdown",
   "id": "24f4c6c6-1bb9-447a-8634-b95d64dda57b",
   "metadata": {},
   "source": [
    "In this tutorial you will learn:\n",
    "- Creating a SharePoint Site (NIH users) \n",
    "- Setting up Azure AI Search with a SharePoint data source\n",
    "- Connecting our chatbot to our SharePoint Index "
   ]
  },
  {
   "cell_type": "markdown",
   "id": "8d5412fa-8307-46c9-8c35-0a57c5d8df6e",
   "metadata": {},
   "source": [
    "## Get started"
   ]
  },
  {
   "cell_type": "markdown",
   "id": "322b2ba2-19ea-4078-9c11-a0e22ca64936",
   "metadata": {},
   "source": [
    "### Install required packages."
   ]
  },
  {
   "cell_type": "code",
   "execution_count": null,
   "id": "cde8da16-327b-415f-9886-00aab1b4884a",
   "metadata": {
    "tags": []
   },
   "outputs": [],
   "source": [
    "pip install \"openai\" \"requests\" \"python-dotenv\""
   ]
  },
  {
   "cell_type": "markdown",
   "id": "a706743e-d616-4a37-96f4-66a9a27c711c",
   "metadata": {},
   "source": [
    "### Import required libraries."
   ]
  },
  {
   "cell_type": "code",
   "execution_count": null,
   "id": "1b912248-d8c1-4f00-b425-7ff512bc9bd7",
   "metadata": {},
   "outputs": [],
   "source": [
    "from openai import AzureOpenAI\n",
    "import requests\n",
    "import json\n",
    "import requests"
   ]
  },
  {
   "cell_type": "markdown",
   "id": "126cbc99-42be-4411-ae1c-23a976670dcd",
   "metadata": {},
   "source": [
    "### Download Articles"
   ]
  },
  {
   "cell_type": "markdown",
   "id": "b782a912-371c-467a-bc09-702f92bb24bc",
   "metadata": {},
   "source": [
    "For this tutorial we will be downloading scientific articles related to COVID, which our model will then use as refrences to answer our questions."
   ]
  },
  {
   "cell_type": "code",
   "execution_count": null,
   "id": "36ead6f1-3e86-48b6-9b1c-0175fb402622",
   "metadata": {},
   "outputs": [],
   "source": [
    "articles_urls = ['https://www.ncbi.nlm.nih.gov/pmc/articles/PMC10781091/pdf/pone.0285645.pdf', \n",
    "                 'https://www.ncbi.nlm.nih.gov/pmc/articles/PMC10219649/pdf/elife-86014.pdf',\n",
    "                 'https://www.ncbi.nlm.nih.gov/pmc/articles/PMC10734909/pdf/pone.0285351.pdf',\n",
    "                 'https://www.ncbi.nlm.nih.gov/pmc/articles/PMC10684592/pdf/41598_2023_Article_47655.pdf', \n",
    "                 'https://www.ncbi.nlm.nih.gov/pmc/articles/PMC10601201/pdf/12889_2023_Article_16916.pdf',\n",
    "                 'https://www.ncbi.nlm.nih.gov/pmc/articles/PMC10516599/pdf/elife-86043.pdf',\n",
    "                 'https://www.ncbi.nlm.nih.gov/pmc/articles/PMC10620090/pdf/41586_2023_Article_6651.pdf',\n",
    "                 'https://www.ncbi.nlm.nih.gov/pmc/articles/PMC10414557/pdf/pone.0289774.pdf',\n",
    "                 'https://www.ncbi.nlm.nih.gov/pmc/articles/PMC10355333/pdf/aids-37-1565.pdf',\n",
    "                 'https://www.ncbi.nlm.nih.gov/pmc/articles/PMC10289397/pdf/pone.0286297.pdf']"
   ]
  },
  {
   "cell_type": "code",
   "execution_count": null,
   "id": "de4f3e7d-2bf5-485b-8c43-6bf4bb69e85f",
   "metadata": {
    "tags": []
   },
   "outputs": [],
   "source": [
    "import subprocess\n",
    "for url in articles_urls:\n",
    "    subprocess.run(f'wget --user-agent=\"Chrome\" {url}', shell=True, executable=\"/bin/bash\")"
   ]
  },
  {
   "cell_type": "markdown",
   "id": "bef9e5b8-b2d3-4d8f-b7da-6bb9363834bc",
   "metadata": {},
   "source": [
    "### Setting up a SharePoint Site"
   ]
  },
  {
   "cell_type": "markdown",
   "id": "b3aaaa19-9d46-430f-8c78-92b02e5cabf9",
   "metadata": {},
   "source": [
    "In order for us to index documents in a SharePoint site the documents must be located in a document library or a subsite. You can create your document library in two ways directly via a **SharePoint site** or **Microsoft Teams channel.**\n",
    "\n",
    "If you would like to create a **SharePoint site** to index and you are a NIH user follow the section below for instructions. If you are a non-NIH user follow the instructions listed [here](https://support.microsoft.com/en-us/office/create-a-site-in-sharepoint-4d1e11bf-8ddc-499d-b889-2b48d10b1ce8). Once your SharePoint site is up upload the articles we just downloaded.\n",
    "\n",
    "If you have a **Microsoft Teams channel** click on the three dots to open the channel as a SharePoint site. If your articles are not already in a document library you can create one by clicking `+ New` then select `Document Library`. Give your library a name then upload the articles we just downloaded.\n",
    "\n",
    "\n",
    "Otherwise if you already have a SharePoint site feel free to skip to the next section."
   ]
  },
  {
   "cell_type": "markdown",
   "id": "83190db0-d378-41f1-84b2-97a26ab5b1a7",
   "metadata": {},
   "source": [
    "#### Optional: Requesting a SharePoint Site (for NIH users only)"
   ]
  },
  {
   "cell_type": "markdown",
   "id": "836578a5-249a-49c9-9c29-2c6a92d9a1b3",
   "metadata": {},
   "source": [
    "Submit a ticket through the IT Service Desk to create a new SharePoint site by going to Request a Service and under Collaboration and Conferencing go to `Microsoft 365 Services > SharePoint Request`. Once you are on the SharePoint form under `Select request type` select **Provision new SharePoint Online Site** then fillout the rest of the necessary information."
   ]
  },
  {
   "cell_type": "markdown",
   "id": "4913c739-e9d7-433e-891c-7799ef033abb",
   "metadata": {},
   "source": [
    "### Create Azure AI Search Service"
   ]
  },
  {
   "cell_type": "markdown",
   "id": "b3dff463-ed82-4286-bcf5-9815cb2e2ed7",
   "metadata": {},
   "source": [
    "Enter in the name you would like for your AI Search service and index along with the name of your resource group and the location you would like your index to be held in."
   ]
  },
  {
   "cell_type": "code",
   "execution_count": null,
   "id": "0402532c-9746-4acf-abbd-dcacc261631c",
   "metadata": {},
   "outputs": [],
   "source": [
    "service_name='<Your Service Name>'\n",
    "location = 'eastus2'\n",
    "resource_group = '<Your Resource Group>'"
   ]
  },
  {
   "cell_type": "markdown",
   "id": "e884f2fd-60a8-42bd-937a-f84dcd920feb",
   "metadata": {},
   "source": [
    "Authenticate to use Azure CLI, follow the outputs instructions."
   ]
  },
  {
   "cell_type": "code",
   "execution_count": null,
   "id": "3e40d502-d5ed-47fb-89a5-01da55e5e870",
   "metadata": {},
   "outputs": [],
   "source": [
    "! az login"
   ]
  },
  {
   "cell_type": "markdown",
   "id": "f2c94e07-fb3e-4472-9e56-3c81527d5b0c",
   "metadata": {},
   "source": [
    "Create your Azure AI Search service. We will be using the free tier that holds 50MB of memory and allows you to create up to 3 indexes."
   ]
  },
  {
   "cell_type": "code",
   "execution_count": null,
   "id": "2e6dd69e-0295-41da-b04f-1ab98cc56e3a",
   "metadata": {},
   "outputs": [],
   "source": [
    "! az search service create --name {service_name} --sku free --location {location} --resource-group {resource_group} --partition-count 1 --replica-count 1"
   ]
  },
  {
   "cell_type": "markdown",
   "id": "77e3df2a-4426-4942-b9e3-b6c77d8729ff",
   "metadata": {},
   "source": [
    "Save the key to a JSON file and then we will save the value to our index_service_key variable."
   ]
  },
  {
   "cell_type": "code",
   "execution_count": null,
   "id": "a61b5aa3-529f-450f-a7b8-c8eaf8901b5e",
   "metadata": {},
   "outputs": [],
   "source": [
    "! az search admin-key show --resource-group {resource_group} --service-name {service_name} > keys.json"
   ]
  },
  {
   "cell_type": "code",
   "execution_count": null,
   "id": "a5690d1e-39bf-4aac-a1d3-4028d6dceb45",
   "metadata": {},
   "outputs": [],
   "source": [
    "#save the key to a variable\n",
    "with open('keys.json', mode='r') as f:\n",
    "    data = json.load(f)\n",
    "index_service_key = data[\"primaryKey\"]"
   ]
  },
  {
   "cell_type": "markdown",
   "id": "094b0ee4-bee6-4087-9cbf-004075bd9f52",
   "metadata": {},
   "source": [
    "### Setting up Permissions\n",
    "\n",
    "If you are a non-NIH user follow steps 1-3 listed [here](https://learn.microsoft.com/en-us/azure/search/search-howto-index-sharepoint-online). NIH user should follow the instructions listed below."
   ]
  },
  {
   "cell_type": "markdown",
   "id": "d9b4ed00-4a75-4a44-b365-45c255916a40",
   "metadata": {},
   "source": [
    "1. Sign in to the [Azure portal](https://portal.azure.com/).\n",
    "\n",
    "2. Search for or navigate to Microsoft Entra ID, then select **App registrations**.\n",
    "\n",
    "3. Select **+ New registration**:\n",
    "\n",
    "4. Provide a name for your app. NIH users must structure their app name like so `Your-NIH-IC-Name App-Name`\n",
    "5. Select **Single tenant**.\n",
    "6. Skip the URI designation step. No redirect URI required.\n",
    "7. Select **Register**.\n",
    "8. On the left, select **API permissions**, then **Add a permission**, then **Microsoft Graph**\n",
    "9. Select Delegated permissions and add the following permissions:\n",
    "    - Delegated - Files.Read.All\n",
    "    - Delegated - Sites.Read.All\n",
    "    - Delegated - User.Read     "
   ]
  },
  {
   "cell_type": "markdown",
   "id": "026056a2-daf1-4b46-92f4-f1bf9d04e88a",
   "metadata": {},
   "source": [
    "Next you will need to obtain admin consent to grant the permissions. NIH users should submit a ticket by going to their IT service then under Enterprise Cloud Platforms > Cloud Operations Support Request. Filling in the following:\n",
    "- **Cloud Service Provider:** Azure\n",
    "- **Request type:** Identity and Role-based Access\n",
    "- **Account name and number:** Enter in your Azure subscription name and number\n",
    "- **Additional information:** Type in your application ID and name"
   ]
  },
  {
   "cell_type": "markdown",
   "id": "e9ff3b5d-3ded-4f3a-aa49-60a0945a1e8d",
   "metadata": {},
   "source": [
    "### Create Azure AI Data Store, Index, and Indexer"
   ]
  },
  {
   "cell_type": "markdown",
   "id": "16789483-f0ae-486d-b6f4-aadbdfb7923f",
   "metadata": {},
   "source": [
    "Because SharePoint indexing through Azure AI Search is still in preview mode we will be using curl commands via python to send our requests."
   ]
  },
  {
   "cell_type": "code",
   "execution_count": null,
   "id": "5d4be169-8084-4fae-9788-be4dfecd89c6",
   "metadata": {},
   "outputs": [],
   "source": [
    "datastore_name = \"<Your Data Store Name>\"\n",
    "index_name = \"<Your Index Name>\"\n",
    "indexer_name = \"<Your Indexer Name>\"\n",
    "app_id = \"<Your Application ID>\"\n",
    "tenant_id = \"<Your Account Tenant ID>\" #You can find this by navigating to Microsoft Entra ID via the Azure console\n",
    "sharepoint_endpoint = \"<Your SharePoint Site URL>\" #This is the home site URL"
   ]
  },
  {
   "cell_type": "markdown",
   "id": "0a200707-63df-4a2f-9872-0fd79c786bac",
   "metadata": {},
   "source": [
    "First we will create our **datastore** which will connect our SharePoint site to Azure AI Search. Notice that within the payload variable the **container** key holds values for a query this is because we want to query all documents within our **document library site**. For other types of queries see the Query section within the [Azure SharePoint Index documentation](https://learn.microsoft.com/en-us/azure/search/search-howto-index-sharepoint-online#query)."
   ]
  },
  {
   "cell_type": "code",
   "execution_count": null,
   "id": "d99dd4d0-8436-4926-b707-dbd7bc5a605f",
   "metadata": {},
   "outputs": [],
   "source": [
    "#DATASTORE\n",
    "url = f\"https://{service_name}.search.windows.net/datasources?api-version=2023-10-01-Preview\"\n",
    "payload = {\"name\" : f\"{datastore_name}\", \"type\" : \"sharepoint\", \n",
    "           \"credentials\" : { \"connectionString\" : f\"SharePointOnlineEndpoint={sharepoint_endpoint};ApplicationId={app_id};TenantId={tenant_id}\" }, \n",
    "           \"container\" : { \"name\" : \"useQuery\", \"query\" : f\"includeLibrary={library}\"}}\n",
    "\n",
    "headers = {\"Content-Type\": \"application/json\", \"api-key\": f\"{index_service_key}\"}\n",
    "r = requests.post(url, json=payload, headers=headers)\n",
    "r.json()"
   ]
  },
  {
   "cell_type": "markdown",
   "id": "14553b20-6427-46a2-82f6-b08501af1a64",
   "metadata": {},
   "source": [
    "Next we will create our **index** and identify and structure the fields which will represent data that well retrieve. Notice some fields also filter, sort, and/or faceting which is used to produce summaries of field values across the documents. These extra field do accrue additional costs and can be set to `False`."
   ]
  },
  {
   "cell_type": "code",
   "execution_count": null,
   "id": "5333cf56-ab5d-44a1-8568-8121f14f3de4",
   "metadata": {
    "tags": []
   },
   "outputs": [],
   "source": [
    "#INDEX\n",
    "url = f\"https://{service_name}.search.windows.net/indexes?api-version=2023-10-01-Preview\"\n",
    "payload = {\"name\" : f\"{index_name}\", \"fields\": [\n",
    "    { \"name\": \"id\", \"type\": \"Edm.String\", \"key\": True, \"searchable\": False },\n",
    "    { \"name\": \"metadata_spo_item_name\", \"type\": \"Edm.String\", \"key\": False, \"searchable\": True, \"filterable\": False, \"sortable\": False, \"facetable\": False },\n",
    "    { \"name\": \"metadata_spo_item_path\", \"type\": \"Edm.String\", \"key\": False, \"searchable\": False, \"filterable\": False, \"sortable\": False, \"facetable\": False },\n",
    "    { \"name\": \"metadata_spo_item_content_type\", \"type\": \"Edm.String\", \"key\": False, \"searchable\": False, \"filterable\": True, \"sortable\": False, \"facetable\": True },\n",
    "    { \"name\": \"metadata_spo_item_last_modified\", \"type\": \"Edm.DateTimeOffset\", \"key\": False, \"searchable\": False, \"filterable\": False, \"sortable\": True, \"facetable\": False },\n",
    "    { \"name\": \"metadata_spo_item_size\", \"type\": \"Edm.Int64\", \"key\": False, \"searchable\": False, \"filterable\": False, \"sortable\": False, \"facetable\": False },\n",
    "    { \"name\": \"content\", \"type\": \"Edm.String\", \"searchable\": True, \"filterable\": False, \"sortable\": False, \"facetable\": False }]}\n",
    "\n",
    "headers = {\"Content-Type\": \"application/json\", \"api-key\": f\"{index_service_key}\"}\n",
    "r = requests.post(url, json=payload, headers=headers)\n",
    "r.json()"
   ]
  },
  {
   "cell_type": "markdown",
   "id": "6fdeb437-f023-4826-aa53-6de3bdbff0c2",
   "metadata": {},
   "source": [
    "Finally we will link our datastore and index by creating a **indexer** which will sync our data to our index. Notice that the indexer excludes image file this is because they are not supported in this index."
   ]
  },
  {
   "cell_type": "code",
   "execution_count": null,
   "id": "7bd80f81-c6e1-4466-878c-93efad687b9e",
   "metadata": {
    "tags": []
   },
   "outputs": [],
   "source": [
    "#INDEXER\n",
    "\n",
    "url = f\"https://{service_name}.search.windows.net/indexers?api-version=2023-10-01-Preview\"\n",
    "payload = { \"name\" : f\"{indexer_name}\", \n",
    "    \"dataSourceName\" : f\"{datastore_name}\", \n",
    "    \"targetIndexName\" : f\"{index_name}\", \n",
    "    \"parameters\": { \n",
    "    \"batchSize\": None, \n",
    "    \"maxFailedItems\": None, \n",
    "    \"maxFailedItemsPerBatch\": None, \n",
    "    \"base64EncodeKeys\": None, \n",
    "    \"configuration\": { \n",
    "        \"indexedFileNameExtensions\" : \".pdf, .docx\", \n",
    "        \"excludedFileNameExtensions\" : \".png, .jpg\", \n",
    "        \"dataToExtract\": \"contentAndMetadata\" \n",
    "      } \n",
    "    }, \n",
    "    \"schedule\" : { }, \n",
    "    \"fieldMappings\" : [ \n",
    "        { \n",
    "          \"sourceFieldName\" : \"metadata_spo_site_library_item_id\", \n",
    "          \"targetFieldName\" : \"id\", \n",
    "          \"mappingFunction\" : { \n",
    "            \"name\" : \"base64Encode\" \n",
    "          } \n",
    "         } \n",
    "    ] \n",
    "}\n",
    "headers = {\"Content-Type\": \"application/json\", \"api-key\": f\"{index_service_key}\"}\n",
    "r = requests.post(url, json=payload, headers=headers)\n",
    "r.json()"
   ]
  },
  {
   "cell_type": "markdown",
   "id": "8932e34e-658e-48bb-a430-5733bc1a89b4",
   "metadata": {},
   "source": [
    "While the command above is running **run the command below in another notebook within 10 min** of running the first command.\n",
    "Read the outputted error message and click on the supplied URL to enter the code the message has given you."
   ]
  },
  {
   "cell_type": "code",
   "execution_count": null,
   "id": "28c14d13-4c21-4c9f-bb38-96d952747427",
   "metadata": {
    "tags": []
   },
   "outputs": [],
   "source": [
    "import requests\n",
    "#RETRIEVE PASSCODE\n",
    "url = f\"https://{service_name}.search.windows.net/indexers/{indexer_name}/status?api-version=2023-10-01-Preview\"\n",
    "headers = {\"Content-Type\": \"application/json\", \"api-key\": f\"{index_service_key}\"}\n",
    "r = requests.get(url, headers=headers)\n",
    "r.json()"
   ]
  },
  {
   "cell_type": "markdown",
   "id": "99b640d2-8c86-425c-b24c-9ba6470008c1",
   "metadata": {},
   "source": [
    "### Querying the data"
   ]
  },
  {
   "cell_type": "markdown",
   "id": "4f7de6cd-9f60-49df-8501-23b4d0cb0894",
   "metadata": {},
   "source": [
    "Enter the following information to connect your deployed model."
   ]
  },
  {
   "cell_type": "code",
   "execution_count": null,
   "id": "1ea8adab-b507-4695-a9e9-cffe3d1555b9",
   "metadata": {},
   "outputs": [],
   "source": [
    "endpoint = \"<AZURE_OPENAI_ENDPOINT>\"\n",
    "api_key = \"<AZURE_OPENAI_KEY>\"\n",
    "deployment_id = \"<YOUR DEPLOYMENT ID>\" # Add your deployment ID here"
   ]
  },
  {
   "cell_type": "markdown",
   "id": "aed5a46a-f197-457a-b1ea-37901fe84a16",
   "metadata": {},
   "source": [
    "Now lets set up some questions or queries that we want our model to answer about the documents in our SharePoint index."
   ]
  },
  {
   "cell_type": "code",
   "execution_count": null,
   "id": "04ffb313-e856-4ea0-b05b-4980645747a5",
   "metadata": {},
   "outputs": [],
   "source": [
    "query = \"What is COVID?\""
   ]
  },
  {
   "cell_type": "code",
   "execution_count": null,
   "id": "02ef358d-f1b6-4a01-802e-3d44af369519",
   "metadata": {},
   "outputs": [],
   "source": [
    "query = \"what are treatments for COVID?\""
   ]
  },
  {
   "cell_type": "markdown",
   "id": "60f76614-479b-477a-9e46-193326b87ff9",
   "metadata": {},
   "source": [
    "Now we can run the cell below which will retrieve information from the docs in our index related to our query and send that related information to our model."
   ]
  },
  {
   "cell_type": "code",
   "execution_count": null,
   "id": "92e76f70-b38c-425f-80fd-1b5896e89303",
   "metadata": {},
   "outputs": [],
   "source": [
    "search_endpoint = \"https://{}.search.windows.net\".format(service_name)\n",
    "\n",
    "\n",
    "client = AzureOpenAI(\n",
    "    base_url=f\"{endpoint}/openai/deployments/{deployment_id}/extensions\",\n",
    "    api_key=api_key,\n",
    "    api_version=\"2023-08-01-preview\",\n",
    ")\n",
    "\n",
    "completion = client.chat.completions.create(\n",
    "    model=deployment_id,\n",
    "    messages=[\n",
    "        {\n",
    "            \"role\": \"assistant\", \n",
    "            \"content\": \"You are a helpful assistant that will answer questions based on the documents given. You will also list the name of the documents.\"},\n",
    "        {\n",
    "            \"role\": \"user\",\n",
    "            \"content\": query,\n",
    "        },\n",
    "    ],\n",
    "    stream=True,\n",
    "    extra_body={\n",
    "        \"dataSources\": [\n",
    "            {\n",
    "                \"type\": \"AzureCognitiveSearch\",\n",
    "                \"parameters\": {\n",
    "                    \"endpoint\": search_endpoint,\n",
    "                    \"key\": index_service_key,\n",
    "                    \"indexName\": index_name\n",
    "                }\n",
    "            }\n",
    "        ]\n",
    "    }\n",
    ")\n",
    "\n",
    "for chunk in completion:\n",
    "    if chunk.choices[0].delta.content is not None:\n",
    "        print(chunk.choices[0].delta.content, end=\"\")"
   ]
  },
  {
   "cell_type": "markdown",
   "id": "de5ccbf7-739a-4486-990b-41e2ffc129da",
   "metadata": {},
   "source": [
    "**Tip:** If you would like to have more of a chatbot interaction you can run the example script [here](../example_scripts/example_azureaisearch_openaichat_zeroshot.py) by first exporting the following enivronment variables in the terminal then run the script like so: `python example_azureaisearch_openaichat_zeroshot.py`."
   ]
  },
  {
   "cell_type": "code",
   "execution_count": null,
   "id": "29cd70cd-82ad-4548-8cea-5151bbc61d4f",
   "metadata": {},
   "outputs": [],
   "source": [
    "#enter the global variables in your terminal\n",
    "export AZURE_OPENAI_API_KEY='<AZURE_OPENAI_API_KEY>' \\\n",
    "export AZURE_OPENAI_ENDPOINT='<AZURE_OPENAI_ENDPOINT>' \\\n",
    "export AZURE_OPENAI_DEPLOYMENT_NAME='<AZURE_OPENAI_DEPLOYMENT_NAME>' \\\n",
    "export AZURE_COGNITIVE_SEARCH_SERVICE_NAME='<AZURE_COGNITIVE_SEARCH_SERVICE_NAME>' \\\n",
    "export AZURE_COGNITIVE_SEARCH_INDEX_NAME='<AZURE_COGNITIVE_SEARCH_INDEX_NAME>' \\\n",
    "export AZURE_COGNITIVE_SEARCH_API_KEY='<AZURE_COGNITIVE_SEARCH_API_KEY>' "
   ]
  },
  {
   "cell_type": "markdown",
   "id": "bd5732e2-bafb-4370-aa47-340c3911d634",
   "metadata": {},
   "source": [
    "## Conclusion"
   ]
  },
  {
   "cell_type": "markdown",
   "id": "e3097534-b676-460a-9371-b4d5bf19cb9c",
   "metadata": {},
   "source": [
    "In this notebook you learned how to create a SharePoint index, datastore, and indexer and connected it to your creating a SharePoint chatbot!"
   ]
  },
  {
   "cell_type": "markdown",
   "id": "a8466216-507f-4c22-89a8-6dc77d35d0f5",
   "metadata": {},
   "source": [
    "## Clean up"
   ]
  },
  {
   "cell_type": "markdown",
   "id": "58f65786-6280-437e-87c9-0d6f760e1c41",
   "metadata": {},
   "source": [
    "If you so wish delete your sharepoint site and shutdown your notebook."
   ]
  },
  {
   "cell_type": "code",
   "execution_count": null,
   "id": "84bfe851-5692-4082-96ae-b945584d34d0",
   "metadata": {},
   "outputs": [],
   "source": [
    "#delete search service this will also delete any indexes, datastore, and indexers\n",
    "! az search service delete --name {service_name} --resource-group {resource_group} -y"
   ]
  }
 ],
 "metadata": {
  "kernelspec": {
   "display_name": "Python 3.10 - SDK v2",
   "language": "python",
   "name": "python310-sdkv2"
  },
  "language_info": {
   "codemirror_mode": {
    "name": "ipython",
    "version": 3
   },
   "file_extension": ".py",
   "mimetype": "text/x-python",
   "name": "python",
   "nbconvert_exporter": "python",
   "pygments_lexer": "ipython3",
   "version": "3.10.11"
  }
 },
 "nbformat": 4,
 "nbformat_minor": 5
}
