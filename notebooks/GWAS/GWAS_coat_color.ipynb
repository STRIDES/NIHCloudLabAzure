{
  "cells": [
    {
      "cell_type": "markdown",
      "source": [
        "# GWAS in the cloud\n",
        "We adapted the NIH CFDE tutorial from [here](https://training.nih-cfde.org/en/latest/Bioinformatic-Analyses/GWAS-in-the-cloud/background/) and fit it to a notebook. We have greatly simplified the instructions, so if you need or want more details, look at the full tutorial to find out more.\n",
        "Most of this notebook is bash, but expects that you are using a Python kernel, until step 3, plotting, you will need to switch your kernel to R."
      ],
      "metadata": {},
      "id": "7a244bb3"
    },
    {
      "cell_type": "markdown",
      "source": [
        "## 1. Setup\n",
        "### Download the data\n",
        "use %%bash to denote a bash block. You can also use '!' to denote a single bash command within a Python notebook"
      ],
      "metadata": {},
      "id": "8fbf6304"
    },
    {
      "cell_type": "code",
      "source": [
        "%%bash\n",
        "mkdir GWAS\n",
        "curl -LO https://de.cyverse.org/dl/d/E0A502CC-F806-4857-9C3A-BAEAA0CCC694/pruned_coatColor_maf_geno.vcf.gz\n",
        "curl -LO https://de.cyverse.org/dl/d/3B5C1853-C092-488C-8C2F-CE6E8526E96B/coatColor.pheno"
      ],
      "outputs": [],
      "execution_count": null,
      "metadata": {},
      "id": "8ec900bd"
    },
    {
      "cell_type": "code",
      "source": [
        "%%bash\n",
        "mv *.gz GWAS\n",
        "mv *.pheno GWAS\n",
        "ls GWAS"
      ],
      "outputs": [],
      "execution_count": null,
      "metadata": {},
      "id": "4d43ae73"
    },
    {
      "attachments": {},
      "cell_type": "markdown",
      "source": [
        "### Install dependencies\n",
        "Here we install mamba, which is faster than conda. You could also skip this install and just use conda since that is preinstalled in the kernel."
      ],
      "metadata": {},
      "id": "28aadbf8"
    },
    {
      "cell_type": "code",
      "source": [
        "%%bash\n",
        "curl -L -O https://github.com/conda-forge/miniforge/releases/latest/download/Mambaforge-$(uname)-$(uname -m).sh\n",
        "bash Mambaforge-$(uname)-$(uname -m).sh -b -p $HOME/mambaforge"
      ],
      "outputs": [],
      "execution_count": null,
      "metadata": {},
      "id": "b3ba3eef"
    },
    {
      "cell_type": "code",
      "source": [
        "#add to your path\n",
        "import os\n",
        "os.environ[\"PATH\"] += os.pathsep + os.environ[\"HOME\"]+\"/mambaforge/bin\""
      ],
      "outputs": [],
      "execution_count": null,
      "metadata": {
        "gather": {
          "logged": 1686580882939
        }
      },
      "id": "ae20d01c"
    },
    {
      "cell_type": "code",
      "source": [
        "! mamba install -y -c bioconda plink vcftools"
      ],
      "outputs": [],
      "execution_count": null,
      "metadata": {},
      "id": "b219074a"
    },
    {
      "cell_type": "markdown",
      "source": [
        "## 2. Analyze"
      ],
      "metadata": {},
      "id": "3de2fc4c"
    },
    {
      "cell_type": "markdown",
      "source": [
        "### Make map and ped files from the vcf file to feed into plink"
      ],
      "metadata": {},
      "id": "013d960d"
    },
    {
      "cell_type": "code",
      "source": [
        "cd GWAS"
      ],
      "outputs": [],
      "execution_count": null,
      "metadata": {
        "gather": {
          "logged": 1686579597925
        }
      },
      "id": "e91c7a01"
    },
    {
      "cell_type": "code",
      "source": [
        "ls GWAS"
      ],
      "outputs": [],
      "execution_count": null,
      "metadata": {
        "gather": {
          "logged": 1686579600325
        }
      },
      "id": "9b770f7f"
    },
    {
      "cell_type": "code",
      "source": [
        "! vcftools --gzvcf pruned_coatColor_maf_geno.vcf.gz --plink --out coatColor"
      ],
      "outputs": [],
      "execution_count": null,
      "metadata": {},
      "id": "6570875d"
    },
    {
      "cell_type": "markdown",
      "source": [
        "### Create a list of minor alleles.\n",
        "For more info on these terms, look at step 2 at https://training.nih-cfde.org/en/latest/Bioinformatic-Analyses/GWAS-in-the-cloud/analyze/"
      ],
      "metadata": {},
      "id": "b9a38761"
    },
    {
      "cell_type": "code",
      "source": [
        "#unzip vcf\n",
        "! vcftools --gzvcf pruned_coatColor_maf_geno.vcf.gz --recode --out pruned_coatColor_maf_geno"
      ],
      "outputs": [],
      "execution_count": null,
      "metadata": {
        "gather": {
          "logged": 1686581972147
        }
      },
      "id": "6c868a67"
    },
    {
      "cell_type": "code",
      "source": [
        "#create list of minor alleles\n",
        "! cat pruned_coatColor_maf_geno.recode.vcf | awk 'BEGIN{FS=\"\\t\";OFS=\"\\t\";}/#/{next;}{{if($3==\".\")$3=$1\":\"$2;}print $3,$5;}'  > minor_alleles"
      ],
      "outputs": [],
      "execution_count": null,
      "metadata": {
        "gather": {
          "logged": 1686581979545
        }
      },
      "id": "8e11f991"
    },
    {
      "cell_type": "code",
      "source": [
        "! head minor_alleles"
      ],
      "outputs": [],
      "execution_count": null,
      "metadata": {},
      "id": "8cff47e3"
    },
    {
      "cell_type": "markdown",
      "source": [
        "### Run quality controls"
      ],
      "metadata": {},
      "id": "56d901c7"
    },
    {
      "cell_type": "code",
      "source": [
        "#calculate missingness per locus\n",
        "! plink --file coatColor --make-pheno coatColor.pheno \"yellow\" --missing --out miss_stat --noweb --dog --reference-allele minor_alleles --allow-no-sex --adjust"
      ],
      "outputs": [],
      "execution_count": null,
      "metadata": {
        "gather": {
          "logged": 1686582023237
        }
      },
      "id": "dafa14a6"
    },
    {
      "cell_type": "code",
      "source": [
        "#take a look at lmiss, which is the per locus rates of missingness\n",
        "! head miss_stat.lmiss"
      ],
      "outputs": [],
      "execution_count": null,
      "metadata": {
        "gather": {
          "logged": 1686582030150
        }
      },
      "id": "5cf5f51b"
    },
    {
      "cell_type": "code",
      "source": [
        "#peek at imiss which is the individual rates of missingness\n",
        "! head miss_stat.imiss"
      ],
      "outputs": [],
      "execution_count": null,
      "metadata": {
        "gather": {
          "logged": 1686582034753
        }
      },
      "id": "915bb263"
    },
    {
      "cell_type": "markdown",
      "source": [
        "### Convert to plink binary format"
      ],
      "metadata": {},
      "id": "4c11ca71"
    },
    {
      "cell_type": "code",
      "source": [
        "! plink --file coatColor --allow-no-sex --dog --make-bed --noweb --out coatColor.binary"
      ],
      "outputs": [],
      "execution_count": null,
      "metadata": {},
      "id": "3b8f2d7f"
    },
    {
      "cell_type": "markdown",
      "source": [
        "### Run a simple association step (the GWAS part!)"
      ],
      "metadata": {},
      "id": "e36f6cd7"
    },
    {
      "cell_type": "code",
      "source": [
        "! plink --bfile coatColor.binary --make-pheno coatColor.pheno \"yellow\" --assoc --reference-allele minor_alleles --allow-no-sex --adjust --dog --noweb --out coatColor"
      ],
      "outputs": [],
      "execution_count": null,
      "metadata": {},
      "id": "f926ef9b"
    },
    {
      "cell_type": "markdown",
      "source": [
        "### Identify statistical cutoffs\n",
        "This code finds the equivalent of 0.05 and 0.01 p value in the negative-log-transformed p values file. We will use these cutoffs to draw horizontal lines in the Manhattan plot for visualization of haplotypes that cross the 0.05 and 0.01 statistical threshold (i.e. have a statistically significant association with yellow coat color)"
      ],
      "metadata": {},
      "id": "b397d484"
    },
    {
      "cell_type": "code",
      "source": [
        "%%bash\n",
        "unad_cutoff_sug=$(tail -n+2 coatColor.assoc.adjusted | awk '$10>=0.05' | head -n1 | awk '{print $3}')\n",
        "unad_cutoff_conf=$(tail -n+2 coatColor.assoc.adjusted | awk '$10>=0.01' | head -n1 | awk '{print $3}')"
      ],
      "outputs": [],
      "execution_count": null,
      "metadata": {},
      "id": "b94e1e2a"
    },
    {
      "cell_type": "markdown",
      "source": [
        "## 3. Plotting\n",
        "In this tutorial, plotting is done in R. Azure gets a bit funny about running these R commands, so we recommend just runnning the rest of the commands in the Terminal. Run `R` before running the commands. Otherwise you can just download the inputs and run locally in R studio."
      ],
      "metadata": {},
      "id": "1f52e97c"
    },
    {
      "cell_type": "markdown",
      "source": [
        "### Install qqman"
      ],
      "metadata": {},
      "id": "effb5acd"
    },
    {
      "cell_type": "code",
      "source": [
        "install.packages('qqman', contriburl=contrib.url('http://cran.r-project.org/'))"
      ],
      "outputs": [],
      "execution_count": null,
      "metadata": {
        "gather": {
          "logged": 1686582094642
        }
      },
      "id": "60feed89"
    },
    {
      "cell_type": "markdown",
      "source": [
        "### Run the plotting function"
      ],
      "metadata": {},
      "id": "d3f1fcd2"
    },
    {
      "cell_type": "code",
      "source": [
        "#make sure you are still CD in GWAS, when you change kernel it may reset to home\n",
        "setwd('GWAS')"
      ],
      "outputs": [],
      "execution_count": null,
      "metadata": {
        "gather": {
          "logged": 1686584355516
        }
      },
      "id": "a7e8cd2b"
    },
    {
      "cell_type": "code",
      "source": [
        "require(qqman)"
      ],
      "outputs": [],
      "execution_count": null,
      "metadata": {
        "gather": {
          "logged": 1686584356532
        }
      },
      "id": "7946a3a7"
    },
    {
      "cell_type": "code",
      "source": [
        "data=read.table(\"coatColor.assoc\", header=TRUE)"
      ],
      "outputs": [],
      "execution_count": null,
      "metadata": {
        "gather": {
          "logged": 1686584364339
        }
      },
      "id": "0d28ef2c"
    },
    {
      "cell_type": "code",
      "source": [
        "data=data[!is.na(data$P),]"
      ],
      "outputs": [],
      "execution_count": null,
      "metadata": {
        "gather": {
          "logged": 1686584368241
        }
      },
      "id": "8e5207be"
    },
    {
      "cell_type": "code",
      "source": [
        "manhattan(data, p = \"P\", col = c(\"blue4\", \"orange3\"),\n",
        "          suggestiveline = 12,\n",
        "          genomewideline = 15,\n",
        "          chrlabs = c(1:38, \"X\"), annotateTop=TRUE, cex = 1.2)"
      ],
      "outputs": [],
      "execution_count": null,
      "metadata": {
        "gather": {
          "logged": 1686584371278
        }
      },
      "id": "6330b1e0"
    },
    {
      "cell_type": "markdown",
      "source": [
        "In our graph, haplotypes in four parts of the genome (chromosome 2, 5, 28 and X) are found to be associated with an increased occurrence of the yellow coat color phenotype.\n",
        "\n",
        "The top associated mutation is a nonsense SNP in the gene MC1R known to control pigment production. The MC1R allele encoding yellow coat color contains a single base change (from C to T) at the 916th nucleotide."
      ],
      "metadata": {},
      "id": "26787d84"
    }
  ],
  "metadata": {
    "kernelspec": {
      "name": "ir",
      "language": "R",
      "display_name": "R"
    },
    "language_info": {
      "name": "R",
      "codemirror_mode": "r",
      "pygments_lexer": "r",
      "mimetype": "text/x-r-source",
      "file_extension": ".r",
      "version": "4.2.2"
    },
    "microsoft": {
      "ms_spell_check": {
        "ms_spell_check_language": "en"
      }
    },
    "kernel_info": {
      "name": "ir"
    },
    "nteract": {
      "version": "nteract-front-end@1.0.0"
    }
  },
  "nbformat": 4,
  "nbformat_minor": 5
}