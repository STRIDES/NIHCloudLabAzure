{
 "cells": [
  {
   "cell_type": "markdown",
   "id": "7a244bb3",
   "metadata": {},
   "source": [
    "# GWAS in the Microsoft Azure Cloud\n",
    "We adapted the NIH CFDE tutorial from [here](https://training.nih-cfde.org/en/latest/Bioinformatic-Analyses/GWAS-in-the-cloud/background/) and fit it to a notebook. We have greatly simplified the instructions, so if you need or want more details, look at the full tutorial to find out more.\n",
    "Most of this notebook is bash, but expects that you are using a Python kernel, until step 3, plotting, you will need to switch your kernel to R."
   ]
  },
  {
   "cell_type": "markdown",
   "id": "8fbf6304",
   "metadata": {},
   "source": [
    "## 1. Setup\n",
    "### Download the data\n",
    "use %%bash to denote a bash block. You can also use '!' to denote a single bash command within a Python notebook"
   ]
  },
  {
   "cell_type": "code",
   "execution_count": null,
   "id": "8ec900bd",
   "metadata": {},
   "outputs": [],
   "source": [
    "mkdir GWAS"
   ]
  },
  {
   "cell_type": "code",
   "execution_count": 2,
   "id": "eed9c2e7-73bc-41e9-a2a0-e842e76c2009",
   "metadata": {},
   "outputs": [
    {
     "name": "stdout",
     "output_type": "stream",
     "text": [
      "  % Total    % Received % Xferd  Average Speed   Time    Time     Time  Current\n",
      "                                 Dload  Upload   Total   Spent    Left  Speed\n",
      "100 11.3M  100 11.3M    0     0  3742k      0  0:00:03  0:00:03 --:--:-- 3742k\n",
      "curl: (3) URL using bad/illegal format or missing URL\n"
     ]
    }
   ],
   "source": [
    "!curl -LO https://de.cyverse.org/dl/d/E0A502CC-F806-4857-9C3A-BAEAA0CCC694/pruned_coatColor_maf_geno.vcf.gz /\n"
   ]
  },
  {
   "cell_type": "code",
   "execution_count": 4,
   "id": "176c48cc-16c5-4694-ac0c-3c5177474b53",
   "metadata": {},
   "outputs": [
    {
     "name": "stdout",
     "output_type": "stream",
     "text": [
      "  % Total    % Received % Xferd  Average Speed   Time    Time     Time  Current\n",
      "                                 Dload  Upload   Total   Spent    Left  Speed\n",
      "100  1221  100  1221    0     0    869      0  0:00:01  0:00:01 --:--:--   870\n"
     ]
    }
   ],
   "source": [
    "!curl -LO https://de.cyverse.org/dl/d/3B5C1853-C092-488C-8C2F-CE6E8526E96B/coatColor.pheno"
   ]
  },
  {
   "cell_type": "code",
   "execution_count": 5,
   "id": "4d43ae73",
   "metadata": {},
   "outputs": [
    {
     "name": "stdout",
     "output_type": "stream",
     "text": [
      "coatColor.pheno\n",
      "pruned_coatColor_maf_geno.vcf.gz\n"
     ]
    }
   ],
   "source": [
    "%%bash\n",
    "mv *.gz GWAS\n",
    "mv *.pheno GWAS\n",
    "ls GWAS"
   ]
  },
  {
   "cell_type": "markdown",
   "id": "28aadbf8",
   "metadata": {},
   "source": [
    "### Install dependencies\n",
    "Here we install mamba, which is faster than conda, but it can be tricky to add to path in a Sagemaker notebook so we just call the whole path. You could also skip this install and just use conda since that is preinstalled in the kernel."
   ]
  },
  {
   "cell_type": "code",
   "execution_count": 6,
   "id": "b3ba3eef",
   "metadata": {
    "tags": []
   },
   "outputs": [
    {
     "name": "stderr",
     "output_type": "stream",
     "text": [
      "  % Total    % Received % Xferd  Average Speed   Time    Time     Time  Current\n",
      "                                 Dload  Upload   Total   Spent    Left  Speed\n",
      "  0     0    0     0    0     0      0      0 --:--:-- --:--:-- --:--:--     0\n",
      "  0     0    0     0    0     0      0      0 --:--:-- --:--:-- --:--:--     0\n",
      "100 90.5M  100 90.5M    0     0   100M      0 --:--:-- --:--:-- --:--:--  225M\n"
     ]
    },
    {
     "name": "stdout",
     "output_type": "stream",
     "text": [
      "PREFIX=/home/azureuser/mambaforge\n",
      "Unpacking payload ...\n",
      "Extracting python-3.10.6-h582c2e5_0_cpython.tar.bz2\n",
      "Extracting _libgcc_mutex-0.1-conda_forge.tar.bz2\n",
      "Extracting ca-certificates-2022.6.15-ha878542_0.tar.bz2\n",
      "Extracting ld_impl_linux-64-2.36.1-hea4e1c9_2.tar.bz2\n",
      "Extracting libstdcxx-ng-12.1.0-ha89aaad_16.tar.bz2\n",
      "Extracting pybind11-abi-4-hd8ed1ab_3.tar.bz2\n",
      "Extracting tzdata-2022c-h191b570_0.tar.bz2\n",
      "Extracting libgomp-12.1.0-h8d9b700_16.tar.bz2\n",
      "Extracting _openmp_mutex-4.5-2_gnu.tar.bz2\n",
      "Extracting libgcc-ng-12.1.0-h8d9b700_16.tar.bz2\n",
      "Extracting bzip2-1.0.8-h7f98852_4.tar.bz2\n",
      "Extracting c-ares-1.18.1-h7f98852_0.tar.bz2\n",
      "Extracting icu-70.1-h27087fc_0.tar.bz2\n",
      "Extracting keyutils-1.6.1-h166bdaf_0.tar.bz2\n",
      "Extracting libev-4.33-h516909a_1.tar.bz2\n",
      "Extracting libffi-3.4.2-h7f98852_5.tar.bz2\n",
      "Extracting libiconv-1.16-h516909a_0.tar.bz2\n",
      "Extracting libnsl-2.0.0-h7f98852_0.tar.bz2\n",
      "Extracting libuuid-2.32.1-h7f98852_1000.tar.bz2\n",
      "Extracting libzlib-1.2.12-h166bdaf_2.tar.bz2\n",
      "Extracting lz4-c-1.9.3-h9c3ff4c_1.tar.bz2\n",
      "Extracting lzo-2.10-h516909a_1000.tar.bz2\n",
      "Extracting ncurses-6.3-h27087fc_1.tar.bz2\n",
      "Extracting openssl-1.1.1q-h166bdaf_0.tar.bz2\n",
      "Extracting reproc-14.2.3-h7f98852_0.tar.bz2\n",
      "Extracting xz-5.2.6-h166bdaf_0.tar.bz2\n",
      "Extracting yaml-0.2.5-h7f98852_2.tar.bz2\n",
      "Extracting yaml-cpp-0.7.0-h27087fc_1.tar.bz2\n",
      "Extracting libedit-3.1.20191231-he28a2e2_2.tar.bz2\n",
      "Extracting libnghttp2-1.47.0-hdcd2b5c_1.tar.bz2\n",
      "Extracting libsolv-0.7.22-h6239696_0.tar.bz2\n",
      "Extracting libsqlite-3.39.2-h753d276_1.tar.bz2\n",
      "Extracting libssh2-1.10.0-haa6b8db_3.tar.bz2\n",
      "Extracting libxml2-2.9.14-h22db469_4.tar.bz2\n",
      "Extracting readline-8.1.2-h0f457ee_0.tar.bz2\n",
      "Extracting reproc-cpp-14.2.3-h9c3ff4c_0.tar.bz2\n",
      "Extracting tk-8.6.12-h27826a3_0.tar.bz2\n",
      "Extracting zstd-1.5.2-h6239696_4.tar.bz2\n",
      "Extracting krb5-1.19.3-h3790be6_0.tar.bz2\n",
      "Extracting libarchive-3.5.2-hb890918_3.tar.bz2\n",
      "Extracting charset-normalizer-2.1.1-pyhd8ed1ab_0.tar.bz2\n",
      "Extracting colorama-0.4.5-pyhd8ed1ab_0.tar.bz2\n",
      "Extracting idna-3.3-pyhd8ed1ab_0.tar.bz2\n",
      "Extracting libcurl-7.83.1-h7bff187_0.tar.bz2\n",
      "Extracting pycparser-2.21-pyhd8ed1ab_0.tar.bz2\n",
      "Extracting python_abi-3.10-2_cp310.tar.bz2\n",
      "Extracting six-1.16.0-pyh6c4a22f_0.tar.bz2\n",
      "Extracting toolz-0.12.0-pyhd8ed1ab_0.tar.bz2\n",
      "Extracting wheel-0.37.1-pyhd8ed1ab_0.tar.bz2\n",
      "Extracting certifi-2022.6.15-py310hff52083_0.tar.bz2\n",
      "Extracting cffi-1.15.1-py310h255011f_0.tar.bz2\n",
      "Extracting libmamba-0.25.0-hd8a31e3_2.tar.bz2\n",
      "Extracting pycosat-0.6.3-py310h5764c6d_1010.tar.bz2\n",
      "Extracting pysocks-1.7.1-py310hff52083_5.tar.bz2\n",
      "Extracting ruamel_yaml-0.15.80-py310h5764c6d_1007.tar.bz2\n",
      "Extracting setuptools-65.2.0-py310hff52083_0.tar.bz2\n",
      "Extracting tqdm-4.64.0-pyhd8ed1ab_0.tar.bz2\n",
      "Extracting brotlipy-0.7.0-py310h5764c6d_1004.tar.bz2\n",
      "Extracting conda-package-handling-1.8.1-py310h5764c6d_1.tar.bz2\n",
      "Extracting cryptography-37.0.4-py310h597c629_0.tar.bz2\n",
      "Extracting libmambapy-0.25.0-py310hab0e683_2.tar.bz2\n",
      "Extracting pip-22.2.2-pyhd8ed1ab_0.tar.bz2\n",
      "Extracting pyopenssl-22.0.0-pyhd8ed1ab_0.tar.bz2\n",
      "Extracting urllib3-1.26.11-pyhd8ed1ab_0.tar.bz2\n",
      "Extracting requests-2.28.1-pyhd8ed1ab_0.tar.bz2\n",
      "Extracting conda-4.14.0-py310hff52083_0.tar.bz2\n",
      "Extracting mamba-0.25.0-py310hf87f941_2.tar.bz2\n",
      "\n",
      "                                           __\n",
      "          __  ______ ___  ____ _____ ___  / /_  ____ _\n",
      "         / / / / __ `__ \\/ __ `/ __ `__ \\/ __ \\/ __ `/\n",
      "        / /_/ / / / / / / /_/ / / / / / / /_/ / /_/ /\n",
      "       / .___/_/ /_/ /_/\\__,_/_/ /_/ /_/_.___/\\__,_/\n",
      "      /_/\n",
      "\n",
      "conda-forge/linux-64                                        Using cache\n",
      "conda-forge/noarch                                          Using cache\n",
      "\n",
      "Transaction\n",
      "\n",
      "  Prefix: /home/azureuser/mambaforge\n",
      "\n",
      "  Updating specs:\n",
      "\n",
      "   - python==3.10.6=h582c2e5_0_cpython\n",
      "   - _libgcc_mutex==0.1=conda_forge\n",
      "   - ca-certificates==2022.6.15=ha878542_0\n",
      "   - ld_impl_linux-64==2.36.1=hea4e1c9_2\n",
      "   - libstdcxx-ng==12.1.0=ha89aaad_16\n",
      "   - pybind11-abi==4=hd8ed1ab_3\n",
      "   - tzdata==2022c=h191b570_0\n",
      "   - libgomp==12.1.0=h8d9b700_16\n",
      "   - _openmp_mutex==4.5=2_gnu\n",
      "   - libgcc-ng==12.1.0=h8d9b700_16\n",
      "   - bzip2==1.0.8=h7f98852_4\n",
      "   - c-ares==1.18.1=h7f98852_0\n",
      "   - icu==70.1=h27087fc_0\n",
      "   - keyutils==1.6.1=h166bdaf_0\n",
      "   - libev==4.33=h516909a_1\n",
      "   - libffi==3.4.2=h7f98852_5\n",
      "   - libiconv==1.16=h516909a_0\n",
      "   - libnsl==2.0.0=h7f98852_0\n",
      "   - libuuid==2.32.1=h7f98852_1000\n",
      "   - libzlib==1.2.12=h166bdaf_2\n",
      "   - lz4-c==1.9.3=h9c3ff4c_1\n",
      "   - lzo==2.10=h516909a_1000\n",
      "   - ncurses==6.3=h27087fc_1\n",
      "   - openssl==1.1.1q=h166bdaf_0\n",
      "   - reproc==14.2.3=h7f98852_0\n",
      "   - xz==5.2.6=h166bdaf_0\n",
      "   - yaml==0.2.5=h7f98852_2\n",
      "   - yaml-cpp==0.7.0=h27087fc_1\n",
      "   - libedit==3.1.20191231=he28a2e2_2\n",
      "   - libnghttp2==1.47.0=hdcd2b5c_1\n",
      "   - libsolv==0.7.22=h6239696_0\n",
      "   - libsqlite==3.39.2=h753d276_1\n",
      "   - libssh2==1.10.0=haa6b8db_3\n",
      "   - libxml2==2.9.14=h22db469_4\n",
      "   - readline==8.1.2=h0f457ee_0\n",
      "   - reproc-cpp==14.2.3=h9c3ff4c_0\n",
      "   - tk==8.6.12=h27826a3_0\n",
      "   - zstd==1.5.2=h6239696_4\n",
      "   - krb5==1.19.3=h3790be6_0\n",
      "   - libarchive==3.5.2=hb890918_3\n",
      "   - charset-normalizer==2.1.1=pyhd8ed1ab_0\n",
      "   - colorama==0.4.5=pyhd8ed1ab_0\n",
      "   - idna==3.3=pyhd8ed1ab_0\n",
      "   - libcurl==7.83.1=h7bff187_0\n",
      "   - pycparser==2.21=pyhd8ed1ab_0\n",
      "   - python_abi==3.10=2_cp310\n",
      "   - six==1.16.0=pyh6c4a22f_0\n",
      "   - toolz==0.12.0=pyhd8ed1ab_0\n",
      "   - wheel==0.37.1=pyhd8ed1ab_0\n",
      "   - certifi==2022.6.15=py310hff52083_0\n",
      "   - cffi==1.15.1=py310h255011f_0\n",
      "   - libmamba==0.25.0=hd8a31e3_2\n",
      "   - pycosat==0.6.3=py310h5764c6d_1010\n",
      "   - pysocks==1.7.1=py310hff52083_5\n",
      "   - ruamel_yaml==0.15.80=py310h5764c6d_1007\n",
      "   - setuptools==65.2.0=py310hff52083_0\n",
      "   - tqdm==4.64.0=pyhd8ed1ab_0\n",
      "   - brotlipy==0.7.0=py310h5764c6d_1004\n",
      "   - conda-package-handling==1.8.1=py310h5764c6d_1\n",
      "   - cryptography==37.0.4=py310h597c629_0\n",
      "   - libmambapy==0.25.0=py310hab0e683_2\n",
      "   - pip==22.2.2=pyhd8ed1ab_0\n",
      "   - pyopenssl==22.0.0=pyhd8ed1ab_0\n",
      "   - urllib3==1.26.11=pyhd8ed1ab_0\n",
      "   - requests==2.28.1=pyhd8ed1ab_0\n",
      "   - conda==4.14.0=py310hff52083_0\n",
      "   - mamba==0.25.0=py310hf87f941_2\n",
      "\n",
      "\n",
      "  Package                        Version  Build               Channel                    Size\n",
      "───────────────────────────────────────────────────────────────────────────────────────────────\n",
      "  Install:\n",
      "───────────────────────────────────────────────────────────────────────────────────────────────\n",
      "\n",
      "  + _libgcc_mutex                    0.1  conda_forge         conda-forge/linux-64     Cached\n",
      "  + _openmp_mutex                    4.5  2_gnu               conda-forge/linux-64     Cached\n",
      "  + brotlipy                       0.7.0  py310h5764c6d_1004  conda-forge/linux-64     Cached\n",
      "  + bzip2                          1.0.8  h7f98852_4          conda-forge/linux-64     Cached\n",
      "  + c-ares                        1.18.1  h7f98852_0          conda-forge/linux-64     Cached\n",
      "  + ca-certificates            2022.6.15  ha878542_0          conda-forge/linux-64     Cached\n",
      "  + certifi                    2022.6.15  py310hff52083_0     conda-forge/linux-64     Cached\n",
      "  + cffi                          1.15.1  py310h255011f_0     conda-forge/linux-64     Cached\n",
      "  + charset-normalizer             2.1.1  pyhd8ed1ab_0        conda-forge/noarch       Cached\n",
      "  + colorama                       0.4.5  pyhd8ed1ab_0        conda-forge/noarch       Cached\n",
      "  + conda                         4.14.0  py310hff52083_0     conda-forge/linux-64     Cached\n",
      "  + conda-package-handling         1.8.1  py310h5764c6d_1     conda-forge/linux-64     Cached\n",
      "  + cryptography                  37.0.4  py310h597c629_0     conda-forge/linux-64     Cached\n",
      "  + icu                             70.1  h27087fc_0          conda-forge/linux-64     Cached\n",
      "  + idna                             3.3  pyhd8ed1ab_0        conda-forge/noarch       Cached\n",
      "  + keyutils                       1.6.1  h166bdaf_0          conda-forge/linux-64     Cached\n",
      "  + krb5                          1.19.3  h3790be6_0          conda-forge/linux-64     Cached\n",
      "  + ld_impl_linux-64              2.36.1  hea4e1c9_2          conda-forge/linux-64     Cached\n",
      "  + libarchive                     3.5.2  hb890918_3          conda-forge/linux-64     Cached\n",
      "  + libcurl                       7.83.1  h7bff187_0          conda-forge/linux-64     Cached\n",
      "  + libedit                 3.1.20191231  he28a2e2_2          conda-forge/linux-64     Cached\n",
      "  + libev                           4.33  h516909a_1          conda-forge/linux-64     Cached\n",
      "  + libffi                         3.4.2  h7f98852_5          conda-forge/linux-64     Cached\n",
      "  + libgcc-ng                     12.1.0  h8d9b700_16         conda-forge/linux-64     Cached\n",
      "  + libgomp                       12.1.0  h8d9b700_16         conda-forge/linux-64     Cached\n",
      "  + libiconv                        1.16  h516909a_0          conda-forge/linux-64     Cached\n",
      "  + libmamba                      0.25.0  hd8a31e3_2          conda-forge/linux-64     Cached\n",
      "  + libmambapy                    0.25.0  py310hab0e683_2     conda-forge/linux-64     Cached\n",
      "  + libnghttp2                    1.47.0  hdcd2b5c_1          conda-forge/linux-64     Cached\n",
      "  + libnsl                         2.0.0  h7f98852_0          conda-forge/linux-64     Cached\n",
      "  + libsolv                       0.7.22  h6239696_0          conda-forge/linux-64     Cached\n",
      "  + libsqlite                     3.39.2  h753d276_1          conda-forge/linux-64     Cached\n",
      "  + libssh2                       1.10.0  haa6b8db_3          conda-forge/linux-64     Cached\n",
      "  + libstdcxx-ng                  12.1.0  ha89aaad_16         conda-forge/linux-64     Cached\n",
      "  + libuuid                       2.32.1  h7f98852_1000       conda-forge/linux-64     Cached\n",
      "  + libxml2                       2.9.14  h22db469_4          conda-forge/linux-64     Cached\n",
      "  + libzlib                       1.2.12  h166bdaf_2          conda-forge/linux-64     Cached\n",
      "  + lz4-c                          1.9.3  h9c3ff4c_1          conda-forge/linux-64     Cached\n",
      "  + lzo                             2.10  h516909a_1000       conda-forge/linux-64     Cached\n",
      "  + mamba                         0.25.0  py310hf87f941_2     conda-forge/linux-64     Cached\n",
      "  + ncurses                          6.3  h27087fc_1          conda-forge/linux-64     Cached\n",
      "  + openssl                       1.1.1q  h166bdaf_0          conda-forge/linux-64     Cached\n",
      "  + pip                           22.2.2  pyhd8ed1ab_0        conda-forge/noarch       Cached\n",
      "  + pybind11-abi                       4  hd8ed1ab_3          conda-forge/noarch       Cached\n",
      "  + pycosat                        0.6.3  py310h5764c6d_1010  conda-forge/linux-64     Cached\n",
      "  + pycparser                       2.21  pyhd8ed1ab_0        conda-forge/noarch       Cached\n",
      "  + pyopenssl                     22.0.0  pyhd8ed1ab_0        conda-forge/noarch       Cached\n",
      "  + pysocks                        1.7.1  py310hff52083_5     conda-forge/linux-64     Cached\n",
      "  + python                        3.10.6  h582c2e5_0_cpython  conda-forge/linux-64     Cached\n",
      "  + python_abi                      3.10  2_cp310             conda-forge/linux-64     Cached\n",
      "  + readline                       8.1.2  h0f457ee_0          conda-forge/linux-64     Cached\n",
      "  + reproc                        14.2.3  h7f98852_0          conda-forge/linux-64     Cached\n",
      "  + reproc-cpp                    14.2.3  h9c3ff4c_0          conda-forge/linux-64     Cached\n",
      "  + requests                      2.28.1  pyhd8ed1ab_0        conda-forge/noarch       Cached\n",
      "  + ruamel_yaml                  0.15.80  py310h5764c6d_1007  conda-forge/linux-64     Cached\n",
      "  + setuptools                    65.2.0  py310hff52083_0     conda-forge/linux-64     Cached\n",
      "  + six                           1.16.0  pyh6c4a22f_0        conda-forge/noarch       Cached\n",
      "  + tk                            8.6.12  h27826a3_0          conda-forge/linux-64     Cached\n",
      "  + toolz                         0.12.0  pyhd8ed1ab_0        conda-forge/noarch       Cached\n",
      "  + tqdm                          4.64.0  pyhd8ed1ab_0        conda-forge/noarch       Cached\n",
      "  + tzdata                         2022c  h191b570_0          conda-forge/noarch       Cached\n",
      "  + urllib3                      1.26.11  pyhd8ed1ab_0        conda-forge/noarch       Cached\n",
      "  + wheel                         0.37.1  pyhd8ed1ab_0        conda-forge/noarch       Cached\n",
      "  + xz                             5.2.6  h166bdaf_0          conda-forge/linux-64     Cached\n",
      "  + yaml                           0.2.5  h7f98852_2          conda-forge/linux-64     Cached\n",
      "  + yaml-cpp                       0.7.0  h27087fc_1          conda-forge/linux-64     Cached\n",
      "  + zstd                           1.5.2  h6239696_4          conda-forge/linux-64     Cached\n",
      "\n",
      "  Summary:\n",
      "\n",
      "  Install: 67 packages\n",
      "\n",
      "  Total download: 0 B\n",
      "\n",
      "───────────────────────────────────────────────────────────────────────────────────────────────\n",
      "\n",
      "\n",
      "Transaction starting\n",
      "Linking _libgcc_mutex-0.1-conda_forge\n",
      "Linking ca-certificates-2022.6.15-ha878542_0\n",
      "Linking ld_impl_linux-64-2.36.1-hea4e1c9_2\n",
      "Linking libstdcxx-ng-12.1.0-ha89aaad_16\n",
      "Linking libgomp-12.1.0-h8d9b700_16\n",
      "Linking _openmp_mutex-4.5-2_gnu\n",
      "Linking libgcc-ng-12.1.0-h8d9b700_16\n",
      "Linking yaml-cpp-0.7.0-h27087fc_1\n",
      "Linking yaml-0.2.5-h7f98852_2\n",
      "Linking xz-5.2.6-h166bdaf_0\n",
      "Linking reproc-14.2.3-h7f98852_0\n",
      "Linking openssl-1.1.1q-h166bdaf_0\n",
      "Linking ncurses-6.3-h27087fc_1\n",
      "Linking lzo-2.10-h516909a_1000\n",
      "Linking lz4-c-1.9.3-h9c3ff4c_1\n",
      "Linking libzlib-1.2.12-h166bdaf_2\n",
      "Linking libuuid-2.32.1-h7f98852_1000\n",
      "Linking libnsl-2.0.0-h7f98852_0\n",
      "Linking libiconv-1.16-h516909a_0\n",
      "Linking libffi-3.4.2-h7f98852_5\n",
      "Linking libev-4.33-h516909a_1\n",
      "Linking keyutils-1.6.1-h166bdaf_0\n",
      "Linking icu-70.1-h27087fc_0\n",
      "Linking c-ares-1.18.1-h7f98852_0\n",
      "Linking bzip2-1.0.8-h7f98852_4\n",
      "Linking reproc-cpp-14.2.3-h9c3ff4c_0\n",
      "Linking readline-8.1.2-h0f457ee_0\n",
      "Linking libedit-3.1.20191231-he28a2e2_2\n",
      "Linking zstd-1.5.2-h6239696_4\n",
      "Linking tk-8.6.12-h27826a3_0\n",
      "Linking libssh2-1.10.0-haa6b8db_3\n",
      "Linking libsqlite-3.39.2-h753d276_1\n",
      "Linking libsolv-0.7.22-h6239696_0\n",
      "Linking libxml2-2.9.14-h22db469_4\n",
      "Linking libnghttp2-1.47.0-hdcd2b5c_1\n",
      "Linking krb5-1.19.3-h3790be6_0\n",
      "Linking libarchive-3.5.2-hb890918_3\n",
      "Linking libcurl-7.83.1-h7bff187_0\n",
      "Linking libmamba-0.25.0-hd8a31e3_2\n",
      "Linking pybind11-abi-4-hd8ed1ab_3\n",
      "Linking tzdata-2022c-h191b570_0\n",
      "Linking python-3.10.6-h582c2e5_0_cpython\n",
      "Linking python_abi-3.10-2_cp310\n",
      "Linking setuptools-65.2.0-py310hff52083_0\n",
      "Linking wheel-0.37.1-pyhd8ed1ab_0\n",
      "Linking pip-22.2.2-pyhd8ed1ab_0\n",
      "Linking toolz-0.12.0-pyhd8ed1ab_0\n",
      "Linking six-1.16.0-pyh6c4a22f_0\n",
      "Linking pycparser-2.21-pyhd8ed1ab_0\n",
      "Linking idna-3.3-pyhd8ed1ab_0\n",
      "Linking colorama-0.4.5-pyhd8ed1ab_0\n",
      "Linking charset-normalizer-2.1.1-pyhd8ed1ab_0\n",
      "Linking tqdm-4.64.0-pyhd8ed1ab_0\n",
      "Linking libmambapy-0.25.0-py310hab0e683_2\n",
      "Linking ruamel_yaml-0.15.80-py310h5764c6d_1007\n",
      "Linking pysocks-1.7.1-py310hff52083_5\n",
      "Linking pycosat-0.6.3-py310h5764c6d_1010\n",
      "Linking certifi-2022.6.15-py310hff52083_0\n",
      "Linking cffi-1.15.1-py310h255011f_0\n",
      "Linking conda-package-handling-1.8.1-py310h5764c6d_1\n",
      "Linking cryptography-37.0.4-py310h597c629_0\n",
      "Linking brotlipy-0.7.0-py310h5764c6d_1004\n",
      "Linking pyopenssl-22.0.0-pyhd8ed1ab_0\n",
      "Linking urllib3-1.26.11-pyhd8ed1ab_0\n",
      "Linking requests-2.28.1-pyhd8ed1ab_0\n",
      "Linking conda-4.14.0-py310hff52083_0\n",
      "Linking mamba-0.25.0-py310hf87f941_2\n",
      "Transaction finished\n",
      "installation finished.\n"
     ]
    }
   ],
   "source": [
    "%%bash\n",
    "curl -L -O https://github.com/conda-forge/miniforge/releases/latest/download/Mambaforge-$(uname)-$(uname -m).sh\n",
    "bash Mambaforge-$(uname)-$(uname -m).sh -b -p $HOME/mambaforge"
   ]
  },
  {
   "cell_type": "code",
   "execution_count": null,
   "id": "b219074a",
   "metadata": {},
   "outputs": [],
   "source": [
    "!../mambaforge/bin/mamba install -y -c bioconda plink vcftools"
   ]
  },
  {
   "cell_type": "markdown",
   "id": "3de2fc4c",
   "metadata": {},
   "source": [
    "## 2. Analyze"
   ]
  },
  {
   "cell_type": "markdown",
   "id": "013d960d",
   "metadata": {},
   "source": [
    "### Make map and ped files from the vcf file to feed into plink"
   ]
  },
  {
   "cell_type": "code",
   "execution_count": null,
   "id": "e91c7a01",
   "metadata": {},
   "outputs": [],
   "source": [
    "!cd GWAS\n",
    "!pwd"
   ]
  },
  {
   "cell_type": "markdown",
   "id": "a10e32cc-d7e3-4680-bb01-7ad8c59ba033",
   "metadata": {},
   "source": [
    "## Install vcftools"
   ]
  },
  {
   "cell_type": "code",
   "execution_count": 15,
   "id": "ba9d7dd3-e4a2-4dc1-a208-194fd2ba8b20",
   "metadata": {},
   "outputs": [
    {
     "name": "stdout",
     "output_type": "stream",
     "text": [
      "Cloning into 'vcftools'...\n",
      "remote: Enumerating objects: 651, done.\u001b[K\n",
      "remote: Total 651 (delta 0), reused 0 (delta 0), pack-reused 651\u001b[K\n",
      "Receiving objects: 100% (651/651), 783.57 KiB | 496.00 KiB/s, done.\n",
      "Resolving deltas: 100% (316/316), done.\n",
      "Updating files: 100% (128/128), done.\n"
     ]
    }
   ],
   "source": [
    "!git clone https://github.com/vcftools/vcftools.git"
   ]
  },
  {
   "cell_type": "code",
   "execution_count": null,
   "id": "a9f2d1cb-f249-44f6-9a80-d0e8146b69cf",
   "metadata": {},
   "outputs": [],
   "source": [
    "cd vcftools"
   ]
  },
  {
   "cell_type": "code",
   "execution_count": 23,
   "id": "ccf66c73-f811-4224-9273-44ded993cd50",
   "metadata": {},
   "outputs": [
    {
     "name": "stdout",
     "output_type": "stream",
     "text": [
      "configure.ac:16: installing './compile'\n",
      "configure.ac:12: installing './install-sh'\n",
      "configure.ac:12: installing './missing'\n",
      "src/cpp/Makefile.am: installing './depcomp'\n"
     ]
    }
   ],
   "source": [
    "!bash autogen.sh"
   ]
  },
  {
   "cell_type": "code",
   "execution_count": 28,
   "id": "b2c4f435-bd58-4584-9dc6-d9042a204a4e",
   "metadata": {
    "scrolled": true,
    "tags": []
   },
   "outputs": [
    {
     "name": "stdout",
     "output_type": "stream",
     "text": [
      "checking for a BSD-compatible install... /usr/bin/install -c\n",
      "checking whether build environment is sane... yes\n",
      "checking for a thread-safe mkdir -p... /usr/bin/mkdir -p\n",
      "checking for gawk... gawk\n",
      "checking whether make sets $(MAKE)... yes\n",
      "checking whether make supports nested variables... yes\n",
      "checking for g++... g++\n",
      "checking whether the C++ compiler works... yes\n",
      "checking for C++ compiler default output file name... a.out\n",
      "checking for suffix of executables... \n",
      "checking whether we are cross compiling... no\n",
      "checking for suffix of object files... o\n",
      "checking whether we are using the GNU C++ compiler... yes\n",
      "checking whether g++ accepts -g... yes\n",
      "checking whether make supports the include directive... yes (GNU style)\n",
      "checking dependency style of g++... gcc3\n",
      "checking for gcc... gcc\n",
      "checking whether we are using the GNU C compiler... yes\n",
      "checking whether gcc accepts -g... yes\n",
      "checking for gcc option to accept ISO C89... none needed\n",
      "checking whether gcc understands -c and -o together... yes\n",
      "checking dependency style of gcc... gcc3\n",
      "checking how to run the C preprocessor... gcc -E\n",
      "checking for perl... /usr/bin/perl\n",
      "checking for pkg-config... /usr/bin/pkg-config\n",
      "checking pkg-config is at least version 0.9.0... yes\n",
      "checking for ZLIB... yes\n",
      "checking for grep that handles long lines and -e... /usr/bin/grep\n",
      "checking for egrep... /usr/bin/grep -E\n",
      "checking for ANSI C header files... yes\n",
      "checking for sys/types.h... yes\n",
      "checking for sys/stat.h... yes\n",
      "checking for stdlib.h... yes\n",
      "checking for string.h... yes\n",
      "checking for memory.h... yes\n",
      "checking for strings.h... yes\n",
      "checking for inttypes.h... yes\n",
      "checking for stdint.h... yes\n",
      "checking for unistd.h... yes\n",
      "checking arpa/inet.h usability... yes\n",
      "checking arpa/inet.h presence... yes\n",
      "checking for arpa/inet.h... yes\n",
      "checking fcntl.h usability... yes\n",
      "checking fcntl.h presence... yes\n",
      "checking for fcntl.h... yes\n",
      "checking limits.h usability... yes\n",
      "checking limits.h presence... yes\n",
      "checking for limits.h... yes\n",
      "checking netdb.h usability... yes\n",
      "checking netdb.h presence... yes\n",
      "checking for netdb.h... yes\n",
      "checking for stdint.h... (cached) yes\n",
      "checking for stdlib.h... (cached) yes\n",
      "checking for string.h... (cached) yes\n",
      "checking sys/socket.h usability... yes\n",
      "checking sys/socket.h presence... yes\n",
      "checking for sys/socket.h... yes\n",
      "checking for unistd.h... (cached) yes\n",
      "checking for stdbool.h that conforms to C99... yes\n",
      "checking for _Bool... yes\n",
      "checking for inline... inline\n",
      "checking for int16_t... yes\n",
      "checking for int32_t... yes\n",
      "checking for int64_t... yes\n",
      "checking for int8_t... yes\n",
      "checking for off_t... yes\n",
      "checking for size_t... yes\n",
      "checking for ssize_t... yes\n",
      "checking for uint16_t... yes\n",
      "checking for uint32_t... yes\n",
      "checking for uint8_t... yes\n",
      "checking for special C compiler options needed for large files... no\n",
      "checking for _FILE_OFFSET_BITS value needed for large files... no\n",
      "checking for error_at_line... yes\n",
      "checking for stdlib.h... (cached) yes\n",
      "checking for GNU libc compatible malloc... yes\n",
      "checking for stdlib.h... (cached) yes\n",
      "checking for GNU libc compatible realloc... yes\n",
      "checking for gethostbyaddr... yes\n",
      "checking for gethostbyname... yes\n",
      "checking for memset... yes\n",
      "checking for pow... no\n",
      "checking for select... yes\n",
      "checking for socket... yes\n",
      "checking for sqrt... no\n",
      "checking for strchr... yes\n",
      "checking for strdup... yes\n",
      "checking for strerror... yes\n",
      "checking for strstr... yes\n",
      "checking for strtol... yes\n",
      "checking that generated files are newer than configure... done\n",
      "configure: creating ./config.status\n",
      "config.status: creating Makefile\n",
      "config.status: creating src/Makefile\n",
      "config.status: creating src/cpp/Makefile\n",
      "config.status: creating src/perl/Makefile\n",
      "config.status: creating config.h\n",
      "config.status: executing depfiles commands\n"
     ]
    }
   ],
   "source": [
    "!bash configure"
   ]
  },
  {
   "cell_type": "code",
   "execution_count": null,
   "id": "2b7a162f-f36f-466b-add4-1c1f76820d7a",
   "metadata": {
    "scrolled": true,
    "tags": []
   },
   "outputs": [],
   "source": [
    "!make"
   ]
  },
  {
   "cell_type": "code",
   "execution_count": null,
   "id": "2d19d269-b601-4ef4-8d93-1709fbda6475",
   "metadata": {},
   "outputs": [],
   "source": [
    "!sudo make install"
   ]
  },
  {
   "cell_type": "code",
   "execution_count": 39,
   "id": "6570875d",
   "metadata": {},
   "outputs": [
    {
     "name": "stdout",
     "output_type": "stream",
     "text": [
      "\n",
      "VCFtools - 0.1.17\n",
      "(C) Adam Auton and Anthony Marcketta 2009\n",
      "\n",
      "Parameters as interpreted:\n",
      "\t--gzvcf pruned_coatColor_maf_geno.vcf.gz\n",
      "\t--out coatColor\n",
      "\t--plink\n",
      "\n",
      "Using zlib version: 1.2.11\n",
      "Warning: Expected at least 2 parts in INFO entry: ID=PR,Number=0,Type=Flag,Description=\"Provisional reference allele, may not be based on real reference genome\">\n",
      "After filtering, kept 53 out of 53 Individuals\n",
      "Writing PLINK PED and MAP files ... \n",
      "Done.\n",
      "After filtering, kept 476840 out of a possible 476840 Sites\n",
      "Run Time = 9.00 seconds\n"
     ]
    }
   ],
   "source": [
    "!vcftools --gzvcf pruned_coatColor_maf_geno.vcf.gz --plink --out coatColor"
   ]
  },
  {
   "cell_type": "markdown",
   "id": "b9a38761",
   "metadata": {},
   "source": [
    "### Create a list of minor alleles, for more info on these terms, look at step 2 at https://training.nih-cfde.org/en/latest/Bioinformatic-Analyses/GWAS-in-the-cloud/analyze/"
   ]
  },
  {
   "cell_type": "code",
   "execution_count": 40,
   "id": "6c868a67",
   "metadata": {},
   "outputs": [
    {
     "name": "stdout",
     "output_type": "stream",
     "text": [
      "\n",
      "VCFtools - 0.1.17\n",
      "(C) Adam Auton and Anthony Marcketta 2009\n",
      "\n",
      "Parameters as interpreted:\n",
      "\t--gzvcf pruned_coatColor_maf_geno.vcf.gz\n",
      "\t--out pruned_coatColor_maf_geno\n",
      "\t--recode\n",
      "\n",
      "Using zlib version: 1.2.11\n",
      "Warning: Expected at least 2 parts in INFO entry: ID=PR,Number=0,Type=Flag,Description=\"Provisional reference allele, may not be based on real reference genome\">\n",
      "After filtering, kept 53 out of 53 Individuals\n",
      "Outputting VCF file...\n",
      "After filtering, kept 476840 out of a possible 476840 Sites\n",
      "Run Time = 12.00 seconds\n"
     ]
    }
   ],
   "source": [
    "#unzip vcf\n",
    "!vcftools --gzvcf pruned_coatColor_maf_geno.vcf.gz --recode --out pruned_coatColor_maf_geno"
   ]
  },
  {
   "cell_type": "code",
   "execution_count": 41,
   "id": "8e11f991",
   "metadata": {},
   "outputs": [],
   "source": [
    "#create list of minor alleles\n",
    "!cat pruned_coatColor_maf_geno.recode.vcf | awk 'BEGIN{FS=\"\\t\";OFS=\"\\t\";}/#/{next;}{{if($3==\".\")$3=$1\":\"$2;}print $3,$5;}'  > minor_alleles"
   ]
  },
  {
   "cell_type": "code",
   "execution_count": 42,
   "id": "8cff47e3",
   "metadata": {},
   "outputs": [
    {
     "name": "stdout",
     "output_type": "stream",
     "text": [
      "BICF2P1489653\tT\n",
      "chr1:11368\tT\n",
      "BICF2G630707787\tT\n",
      "chr1:22137\tA\n",
      "chr1:22143\tA\n",
      "chr1:23623\tG\n",
      "chr1:23651\tC\n",
      "chr1:23653\tT\n",
      "BICF2S23441188\tA\n",
      "chr1:30122\tT\n"
     ]
    }
   ],
   "source": [
    "!head minor_alleles"
   ]
  },
  {
   "cell_type": "markdown",
   "id": "56d901c7",
   "metadata": {},
   "source": [
    "### Run quality controls"
   ]
  },
  {
   "cell_type": "markdown",
   "id": "d7cb3ec5-cea6-41d3-aa69-c20ab7fa1476",
   "metadata": {},
   "source": [
    "#### Download Plink"
   ]
  },
  {
   "cell_type": "code",
   "execution_count": 44,
   "id": "092ee638-3bfc-4904-a429-79c996f0dc0d",
   "metadata": {},
   "outputs": [
    {
     "name": "stdout",
     "output_type": "stream",
     "text": [
      "--2022-10-25 02:20:06--  https://zzz.bwh.harvard.edu/plink/dist/plink-1.07-x86_64.zip\n",
      "Resolving zzz.bwh.harvard.edu (zzz.bwh.harvard.edu)... 170.223.191.141\n",
      "Connecting to zzz.bwh.harvard.edu (zzz.bwh.harvard.edu)|170.223.191.141|:443... connected.\n",
      "HTTP request sent, awaiting response... 200 OK\n",
      "Length: 3971138 (3.8M) [application/zip]\n",
      "Saving to: ‘plink-1.07-x86_64.zip’\n",
      "\n",
      "plink-1.07-x86_64.z 100%[===================>]   3.79M  20.2MB/s    in 0.2s    \n",
      "\n",
      "2022-10-25 02:20:08 (20.2 MB/s) - ‘plink-1.07-x86_64.zip’ saved [3971138/3971138]\n",
      "\n"
     ]
    }
   ],
   "source": [
    "!wget https://zzz.bwh.harvard.edu/plink/dist/plink-1.07-x86_64.zip"
   ]
  },
  {
   "cell_type": "code",
   "execution_count": 46,
   "id": "584cc5ef-4dae-4359-8fd5-95288a5e804f",
   "metadata": {},
   "outputs": [
    {
     "name": "stdout",
     "output_type": "stream",
     "text": [
      "Archive:  plink-1.07-x86_64.zip\n",
      "   creating: plink-1.07-x86_64/\n",
      "  inflating: plink-1.07-x86_64/plink  \n",
      "  inflating: plink-1.07-x86_64/COPYING.txt  \n",
      "  inflating: plink-1.07-x86_64/test.map  \n",
      "  inflating: plink-1.07-x86_64/test.ped  \n",
      "  inflating: plink-1.07-x86_64/gPLINK.jar  \n",
      "  inflating: plink-1.07-x86_64/README.txt  \n"
     ]
    }
   ],
   "source": [
    "!unzip plink-1.07-x86_64.zip"
   ]
  },
  {
   "cell_type": "code",
   "execution_count": null,
   "id": "cfee937a-3028-4bb2-909a-9ec9428ddd75",
   "metadata": {},
   "outputs": [],
   "source": [
    "cd GWAS"
   ]
  },
  {
   "cell_type": "code",
   "execution_count": 12,
   "id": "dafa14a6",
   "metadata": {},
   "outputs": [
    {
     "name": "stdout",
     "output_type": "stream",
     "text": [
      "\n",
      "@----------------------------------------------------------@\n",
      "|        PLINK!       |     v1.07      |   10/Aug/2009     |\n",
      "|----------------------------------------------------------|\n",
      "|  (C) 2009 Shaun Purcell, GNU General Public License, v2  |\n",
      "|----------------------------------------------------------|\n",
      "|  For documentation, citation & bug-report instructions:  |\n",
      "|        http://pngu.mgh.harvard.edu/purcell/plink/        |\n",
      "@----------------------------------------------------------@\n",
      "\n",
      "Skipping web check... [ --noweb ] \n",
      "Writing this text to log file [ miss_stat.log ]\n",
      "Analysis started: Tue Nov 29 17:46:18 2022\n",
      "\n",
      "Options in effect:\n",
      "\t--file coatColor\n",
      "\t--make-pheno coatColor.pheno yellow\n",
      "\t--missing\n",
      "\t--out miss_stat\n",
      "\t--noweb\n",
      "\t--dog\n",
      "\t--reference-allele minor_alleles\n",
      "\t--allow-no-sex\n",
      "\t--adjust\n",
      "\n",
      "476840 (of 476840) markers to be included from [ coatColor.map ]\n",
      "Warning, found 53 individuals with ambiguous sex codes\n",
      "Writing list of these individuals to [ miss_stat.nosex ]\n",
      "53 individuals read from [ coatColor.ped ] \n",
      "0 individuals with nonmissing phenotypes\n",
      "Assuming a disease phenotype (1=unaff, 2=aff, 0=miss)\n",
      "Missing phenotype value is also -9\n",
      "0 cases, 0 controls and 53 missing\n",
      "0 males, 0 females, and 53 of unspecified sex\n",
      "Constructing a binary phenotype from [ coatColor.pheno ]\n",
      "Test value is [ yellow ] and missing value is [ -9 ]\n",
      "53 of 53 individuals assigned to 2 cluster(s)\n",
      "Set 24 cases and 29 controls, 0 missing, 0 not found\n",
      "Reading SNPs to set reference allele [ minor_alleles ] \n",
      "Set reference alleles for 476840 SNPs, 424930 different from minor allele\n",
      "Before frequency and genotyping pruning, there are 476840 SNPs\n",
      "53 founders and 0 non-founders found\n",
      "Writing individual missingness information to [ miss_stat.imiss ] \n",
      "Writing locus missingness information to [ miss_stat.lmiss ] \n",
      "Total genotyping rate in remaining individuals is 0.977191\n",
      "0 SNPs failed missingness test ( GENO > 1 )\n",
      "0 SNPs failed frequency test ( MAF < 0 )\n",
      "After frequency and genotyping pruning, there are 476840 SNPs\n",
      "After filtering, 24 cases, 29 controls and 0 missing\n",
      "After filtering, 0 males, 0 females, and 53 of unspecified sex\n",
      "\n",
      "Analysis finished: Tue Nov 29 17:46:35 2022\n",
      "\n"
     ]
    }
   ],
   "source": [
    "#calculate missingness per locus\n",
    "!./plink-1.07-x86_64/plink --file coatColor --make-pheno coatColor.pheno \"yellow\" --missing --out miss_stat --noweb --dog --reference-allele minor_alleles --allow-no-sex --adjust"
   ]
  },
  {
   "cell_type": "code",
   "execution_count": 52,
   "id": "5cf5f51b",
   "metadata": {},
   "outputs": [
    {
     "name": "stdout",
     "output_type": "stream",
     "text": [
      " CHR                                    SNP   N_MISS   N_GENO   F_MISS\n",
      "   1                          BICF2P1489653        1       53  0.01887\n",
      "   1                             chr1:11368        0       53        0\n",
      "   1                        BICF2G630707787        0       53        0\n",
      "   1                             chr1:22137        0       53        0\n",
      "   1                             chr1:22143        0       53        0\n",
      "   1                             chr1:23623        0       53        0\n",
      "   1                             chr1:23651        2       53  0.03774\n",
      "   1                             chr1:23653        2       53  0.03774\n",
      "   1                         BICF2S23441188        1       53  0.01887\n"
     ]
    }
   ],
   "source": [
    "#take a look at lmiss, which is the per locus rates of missingness\n",
    "!head miss_stat.lmiss"
   ]
  },
  {
   "cell_type": "code",
   "execution_count": 53,
   "id": "915bb263",
   "metadata": {},
   "outputs": [
    {
     "name": "stdout",
     "output_type": "stream",
     "text": [
      "      FID       IID MISS_PHENO   N_MISS   N_GENO   F_MISS\n",
      "  dark_13   dark_13          N     4994   476840  0.01047\n",
      "  dark_23   dark_23          N     4478   476840 0.009391\n",
      "  dark_21   dark_21          N     4739   476840 0.009938\n",
      " yellow_5  yellow_5          N    15094   476840  0.03165\n",
      " yellow_6  yellow_6          N    13889   476840  0.02913\n",
      "   dark_1    dark_1          N     5703   476840  0.01196\n",
      "   dark_7    dark_7          N     4895   476840  0.01027\n",
      "   dark_9    dark_9          N    23771   476840  0.04985\n",
      "   dark_2    dark_2          N    33736   476840  0.07075\n"
     ]
    }
   ],
   "source": [
    "#peek at imiss which is the individual rates of missingness\n",
    "!head miss_stat.imiss"
   ]
  },
  {
   "cell_type": "markdown",
   "id": "4c11ca71",
   "metadata": {},
   "source": [
    "### Convert to plink binary format"
   ]
  },
  {
   "cell_type": "code",
   "execution_count": 54,
   "id": "3b8f2d7f",
   "metadata": {},
   "outputs": [
    {
     "name": "stdout",
     "output_type": "stream",
     "text": [
      "\n",
      "@----------------------------------------------------------@\n",
      "|        PLINK!       |     v1.07      |   10/Aug/2009     |\n",
      "|----------------------------------------------------------|\n",
      "|  (C) 2009 Shaun Purcell, GNU General Public License, v2  |\n",
      "|----------------------------------------------------------|\n",
      "|  For documentation, citation & bug-report instructions:  |\n",
      "|        http://pngu.mgh.harvard.edu/purcell/plink/        |\n",
      "@----------------------------------------------------------@\n",
      "\n",
      "Skipping web check... [ --noweb ] \n",
      "Writing this text to log file [ coatColor.binary.log ]\n",
      "Analysis started: Tue Oct 25 02:21:52 2022\n",
      "\n",
      "Options in effect:\n",
      "\t--file coatColor\n",
      "\t--allow-no-sex\n",
      "\t--dog\n",
      "\t--make-bed\n",
      "\t--noweb\n",
      "\t--out coatColor.binary\n",
      "\n",
      "** For gPLINK compatibility, do not use '.' in --out **\n",
      "476840 (of 476840) markers to be included from [ coatColor.map ]\n",
      "Warning, found 53 individuals with ambiguous sex codes\n",
      "Writing list of these individuals to [ coatColor.binary.nosex ]\n",
      "53 individuals read from [ coatColor.ped ] \n",
      "0 individuals with nonmissing phenotypes\n",
      "Assuming a disease phenotype (1=unaff, 2=aff, 0=miss)\n",
      "Missing phenotype value is also -9\n",
      "0 cases, 0 controls and 53 missing\n",
      "0 males, 0 females, and 53 of unspecified sex\n",
      "Before frequency and genotyping pruning, there are 476840 SNPs\n",
      "53 founders and 0 non-founders found\n",
      "Total genotyping rate in remaining individuals is 0.977191\n",
      "0 SNPs failed missingness test ( GENO > 1 )\n",
      "0 SNPs failed frequency test ( MAF < 0 )\n",
      "After frequency and genotyping pruning, there are 476840 SNPs\n",
      "After filtering, 0 cases, 0 controls and 53 missing\n",
      "After filtering, 0 males, 0 females, and 53 of unspecified sex\n",
      "Writing pedigree information to [ coatColor.binary.fam ] \n",
      "Writing map (extended format) information to [ coatColor.binary.bim ] \n",
      "Writing genotype bitfile to [ coatColor.binary.bed ] \n",
      "Using (default) SNP-major mode\n",
      "\n",
      "Analysis finished: Tue Oct 25 02:22:06 2022\n",
      "\n"
     ]
    }
   ],
   "source": [
    "!./plink-1.07-x86_64/plink --file coatColor --allow-no-sex --dog --make-bed --noweb --out coatColor.binary"
   ]
  },
  {
   "cell_type": "markdown",
   "id": "e36f6cd7",
   "metadata": {},
   "source": [
    "### Run a simple association step (the GWAS part!)"
   ]
  },
  {
   "cell_type": "code",
   "execution_count": 55,
   "id": "f926ef9b",
   "metadata": {},
   "outputs": [
    {
     "name": "stdout",
     "output_type": "stream",
     "text": [
      "\n",
      "@----------------------------------------------------------@\n",
      "|        PLINK!       |     v1.07      |   10/Aug/2009     |\n",
      "|----------------------------------------------------------|\n",
      "|  (C) 2009 Shaun Purcell, GNU General Public License, v2  |\n",
      "|----------------------------------------------------------|\n",
      "|  For documentation, citation & bug-report instructions:  |\n",
      "|        http://pngu.mgh.harvard.edu/purcell/plink/        |\n",
      "@----------------------------------------------------------@\n",
      "\n",
      "Skipping web check... [ --noweb ] \n",
      "Writing this text to log file [ coatColor.log ]\n",
      "Analysis started: Tue Oct 25 02:22:06 2022\n",
      "\n",
      "Options in effect:\n",
      "\t--bfile coatColor.binary\n",
      "\t--make-pheno coatColor.pheno yellow\n",
      "\t--assoc\n",
      "\t--reference-allele minor_alleles\n",
      "\t--allow-no-sex\n",
      "\t--adjust\n",
      "\t--dog\n",
      "\t--noweb\n",
      "\t--out coatColor\n",
      "\n",
      "Reading map (extended format) from [ coatColor.binary.bim ] \n",
      "476840 markers to be included from [ coatColor.binary.bim ]\n",
      "Reading pedigree information from [ coatColor.binary.fam ] \n",
      "53 individuals read from [ coatColor.binary.fam ] \n",
      "0 individuals with nonmissing phenotypes\n",
      "Assuming a disease phenotype (1=unaff, 2=aff, 0=miss)\n",
      "Missing phenotype value is also -9\n",
      "0 cases, 0 controls and 53 missing\n",
      "0 males, 0 females, and 53 of unspecified sex\n",
      "Warning, found 53 individuals with ambiguous sex codes\n",
      "Writing list of these individuals to [ coatColor.nosex ]\n",
      "Reading genotype bitfile from [ coatColor.binary.bed ] \n",
      "Detected that binary PED file is v1.00 SNP-major mode\n",
      "Constructing a binary phenotype from [ coatColor.pheno ]\n",
      "Test value is [ yellow ] and missing value is [ -9 ]\n",
      "53 of 53 individuals assigned to 2 cluster(s)\n",
      "Set 24 cases and 29 controls, 0 missing, 0 not found\n",
      "Reading SNPs to set reference allele [ minor_alleles ] \n",
      "Set reference alleles for 476840 SNPs, 1588 different from minor allele\n",
      "Before frequency and genotyping pruning, there are 476840 SNPs\n",
      "53 founders and 0 non-founders found\n",
      "Total genotyping rate in remaining individuals is 0.977191\n",
      "0 SNPs failed missingness test ( GENO > 1 )\n",
      "0 SNPs failed frequency test ( MAF < 0 )\n",
      "After frequency and genotyping pruning, there are 476840 SNPs\n",
      "After filtering, 24 cases, 29 controls and 0 missing\n",
      "After filtering, 0 males, 0 females, and 53 of unspecified sex\n",
      "Writing main association results to [ coatColor.assoc ] \n",
      "Computing corrected significance values (FDR, Sidak, etc)\n",
      "Genomic inflation factor (based on median chi-squared) is 5.73169\n",
      "Mean chi-squared statistic is 4.50341\n",
      "Correcting for 476840 tests\n",
      "Writing multiple-test corrected significance values to [ coatColor.assoc.adjusted ] \n",
      "\n",
      "Analysis finished: Tue Oct 25 02:22:16 2022\n",
      "\n"
     ]
    }
   ],
   "source": [
    "!./plink-1.07-x86_64/plink --bfile coatColor.binary --make-pheno coatColor.pheno \"yellow\" --assoc --reference-allele minor_alleles --allow-no-sex --adjust --dog --noweb --out coatColor"
   ]
  },
  {
   "cell_type": "markdown",
   "id": "b397d484",
   "metadata": {},
   "source": [
    "### Identify statistical cutoffs\n",
    "This code finds the equivalent of 0.05 and 0.01 p value in the negative-log-transformed p values file. We will use these cutoffs to draw horizontal lines in the Manhattan plot for visualization of haplotypes that cross the 0.05 and 0.01 statistical threshold (i.e. have a statistically significant association with yellow coat color)"
   ]
  },
  {
   "cell_type": "code",
   "execution_count": 13,
   "id": "b94e1e2a",
   "metadata": {},
   "outputs": [],
   "source": [
    "%%bash\n",
    "unad_cutoff_sug=$(tail -n+2 coatColor.assoc.adjusted | awk '$10>=0.05' | head -n1 | awk '{print $3}')\n",
    "unad_cutoff_conf=$(tail -n+2 coatColor.assoc.adjusted | awk '$10>=0.01' | head -n1 | awk '{print $3}')"
   ]
  },
  {
   "cell_type": "markdown",
   "id": "1f52e97c",
   "metadata": {},
   "source": [
    "## 3. Plotting\n",
    "In this tutorial, plotting is done in R, so at this point you can change your kernel to R in the top right. Wait for it to say 'idle' in the bottom left, then continue. You could also plot using Python native packages and maintain the Python notebook kernel."
   ]
  },
  {
   "cell_type": "markdown",
   "id": "effb5acd",
   "metadata": {},
   "source": [
    "### Install qqman"
   ]
  },
  {
   "cell_type": "markdown",
   "id": "016edc64-c2aa-4348-96a9-11dcb9d32393",
   "metadata": {},
   "source": [
    "## Please select R Kernel from 'Top right Corner' and install \"qqman\" R package from your terminal"
   ]
  },
  {
   "cell_type": "code",
   "execution_count": null,
   "id": "60feed89",
   "metadata": {},
   "outputs": [],
   "source": [
    "!install.packages(\"qqman\")"
   ]
  },
  {
   "cell_type": "markdown",
   "id": "d3f1fcd2",
   "metadata": {},
   "source": [
    "### Run the plotting function"
   ]
  },
  {
   "cell_type": "code",
   "execution_count": 1,
   "id": "a7e8cd2b",
   "metadata": {},
   "outputs": [],
   "source": [
    "#make sure you are still CD in GWAS, when you change kernel it may reset to home\n",
    "setwd('GWAS')"
   ]
  },
  {
   "cell_type": "code",
   "execution_count": null,
   "id": "af7537cb-85af-4bdf-9881-92e03b14dc3e",
   "metadata": {},
   "outputs": [],
   "source": [
    "install.packages(\"qqman\")"
   ]
  },
  {
   "cell_type": "code",
   "execution_count": 7,
   "id": "0d28ef2c",
   "metadata": {},
   "outputs": [],
   "source": [
    "data=read.table(\"coatColor.assoc\", header=TRUE)"
   ]
  },
  {
   "cell_type": "code",
   "execution_count": 8,
   "id": "8e5207be",
   "metadata": {},
   "outputs": [],
   "source": [
    "data=data[!is.na(data$P),]"
   ]
  },
  {
   "cell_type": "code",
   "execution_count": 9,
   "id": "faece0aa-6a41-4fb3-a6c9-c589aaaf369b",
   "metadata": {},
   "outputs": [
    {
     "name": "stderr",
     "output_type": "stream",
     "text": [
      "\n",
      "\n",
      "For example usage please run: vignette('qqman')\n",
      "\n",
      "\n",
      "\n",
      "Citation appreciated but not required:\n",
      "\n",
      "Turner, (2018). qqman: an R package for visualizing GWAS results using Q-Q and manhattan plots. Journal of Open Source Software, 3(25), 731, https://doi.org/10.21105/joss.00731.\n",
      "\n",
      "\n",
      "\n"
     ]
    }
   ],
   "source": [
    "library(qqman)"
   ]
  },
  {
   "cell_type": "code",
   "execution_count": 10,
   "id": "6330b1e0",
   "metadata": {},
   "outputs": [
    {
     "data": {
      "image/png": "[encoded data removed]",
      "text/plain": [
       "plot without title"
      ]
     },
     "metadata": {
      "image/png": {
       "height": 420,
       "width": 420
      }
     },
     "output_type": "display_data"
    }
   ],
   "source": [
    "manhattan(data, p = \"P\", col = c(\"blue4\", \"orange3\"),\n",
    "          suggestiveline = 12,\n",
    "          genomewideline = 15,\n",
    "          chrlabs = c(1:38, \"X\"), annotateTop=TRUE, cex = 1.2)"
   ]
  },
  {
   "cell_type": "markdown",
   "id": "26787d84",
   "metadata": {},
   "source": [
    "In our graph, haplotypes in four parts of the genome (chromosome 2, 5, 28 and X) are found to be associated with an increased occurrence of the yellow coat color phenotype.\n",
    "\n",
    "The top associated mutation is a nonsense SNP in the gene MC1R known to control pigment production. The MC1R allele encoding yellow coat color contains a single base change (from C to T) at the 916th nucleotide."
   ]
  }
 ],
 "metadata": {
  "kernelspec": {
   "display_name": "R",
   "language": "R",
   "name": "ir"
  },
  "language_info": {
   "codemirror_mode": "r",
   "file_extension": ".r",
   "mimetype": "text/x-r-source",
   "name": "R",
   "pygments_lexer": "r",
   "version": "4.2.2"
  }
 },
 "nbformat": 4,
 "nbformat_minor": 5
}
