{
  "cells": [
    {
      "cell_type": "markdown",
      "source": [
        "# Access the resources of Azure OpenAI using API calls"
      ],
      "metadata": {
        "nteract": {
          "transient": {
            "deleting": false
          }
        }
      }
    },
    {
      "cell_type": "markdown",
      "source": [
        "### Setup your local environment"
      ],
      "metadata": {
        "nteract": {
          "transient": {
            "deleting": false
          }
        }
      }
    },
    {
      "cell_type": "code",
      "source": [
        "pip install -r requirements.txt"
      ],
      "outputs": [
        {
          "output_type": "stream",
          "name": "stdout",
          "text": "Collecting python-dotenv\n  Downloading python_dotenv-1.0.0-py3-none-any.whl (19 kB)\nCollecting openai\n  Downloading openai-0.28.1-py3-none-any.whl (76 kB)\n\u001b[2K     \u001b[90m━━━━━━━━━━━━━━━━━━━━━━━━━━━━━━━━━━━━━━━━\u001b[0m \u001b[32m77.0/77.0 kB\u001b[0m \u001b[31m9.5 MB/s\u001b[0m eta \u001b[36m0:00:00\u001b[0m\n\u001b[?25hRequirement already satisfied: pandas in /anaconda/envs/azureml_py310_sdkv2/lib/python3.10/site-packages (from -r requirements.txt (line 4)) (1.5.2)\nRequirement already satisfied: numpy in /anaconda/envs/azureml_py310_sdkv2/lib/python3.10/site-packages (from -r requirements.txt (line 5)) (1.24.1)\nCollecting streamlit\n  Downloading streamlit-1.27.1-py2.py3-none-any.whl (7.5 MB)\n\u001b[2K     \u001b[90m━━━━━━━━━━━━━━━━━━━━━━━━━━━━━━━━━━━━━━━━\u001b[0m \u001b[32m7.5/7.5 MB\u001b[0m \u001b[31m91.1 MB/s\u001b[0m eta \u001b[36m0:00:00\u001b[0m:00:01\u001b[0m00:01\u001b[0m\n\u001b[?25hCollecting langchain==0.0.245\n  Downloading langchain-0.0.245-py3-none-any.whl (1.4 MB)\n\u001b[2K     \u001b[90m━━━━━━━━━━━━━━━━━━━━━━━━━━━━━━━━━━━━━━━━\u001b[0m \u001b[32m1.4/1.4 MB\u001b[0m \u001b[31m64.9 MB/s\u001b[0m eta \u001b[36m0:00:00\u001b[0m\n\u001b[?25hCollecting azure-search-documents==11.4.0b6\n  Downloading azure_search_documents-11.4.0b6-py3-none-any.whl (306 kB)\n\u001b[2K     \u001b[90m━━━━━━━━━━━━━━━━━━━━━━━━━━━━━━━━━━━━━━\u001b[0m \u001b[32m306.1/306.1 kB\u001b[0m \u001b[31m34.9 MB/s\u001b[0m eta \u001b[36m0:00:00\u001b[0m\n\u001b[?25hCollecting tiktoken\n  Downloading tiktoken-0.5.1-cp310-cp310-manylinux_2_17_x86_64.manylinux2014_x86_64.whl (2.0 MB)\n\u001b[2K     \u001b[90m━━━━━━━━━━━━━━━━━━━━━━━━━━━━━━━━━━━━━━━━\u001b[0m \u001b[32m2.0/2.0 MB\u001b[0m \u001b[31m71.6 MB/s\u001b[0m eta \u001b[36m0:00:00\u001b[0m\n\u001b[?25hCollecting faiss-cpu\n  Downloading faiss_cpu-1.7.4-cp310-cp310-manylinux_2_17_x86_64.manylinux2014_x86_64.whl (17.6 MB)\n\u001b[2K     \u001b[90m━━━━━━━━━━━━━━━━━━━━━━━━━━━━━━━━━━━━━━━━\u001b[0m \u001b[32m17.6/17.6 MB\u001b[0m \u001b[31m70.0 MB/s\u001b[0m eta \u001b[36m0:00:00\u001b[0m00:01\u001b[0m00:01\u001b[0m\n\u001b[?25hCollecting tenacity<9.0.0,>=8.1.0\n  Downloading tenacity-8.2.3-py3-none-any.whl (24 kB)\nRequirement already satisfied: requests<3,>=2 in /anaconda/envs/azureml_py310_sdkv2/lib/python3.10/site-packages (from langchain==0.0.245->-r requirements.txt (line 7)) (2.28.2)\nCollecting async-timeout<5.0.0,>=4.0.0\n  Downloading async_timeout-4.0.3-py3-none-any.whl (5.7 kB)\nCollecting pydantic<2,>=1\n  Downloading pydantic-1.10.13-cp310-cp310-manylinux_2_17_x86_64.manylinux2014_x86_64.whl (3.1 MB)\n\u001b[2K     \u001b[90m━━━━━━━━━━━━━━━━━━━━━━━━━━━━━━━━━━━━━━━━\u001b[0m \u001b[32m3.1/3.1 MB\u001b[0m \u001b[31m70.4 MB/s\u001b[0m eta \u001b[36m0:00:00\u001b[0m:00:01\u001b[0m\n\u001b[?25hCollecting openapi-schema-pydantic<2.0,>=1.2\n  Downloading openapi_schema_pydantic-1.2.4-py3-none-any.whl (90 kB)\n\u001b[2K     \u001b[90m━━━━━━━━━━━━━━━━━━━━━━━━━━━━━━━━━━━━━━━━\u001b[0m \u001b[32m90.0/90.0 kB\u001b[0m \u001b[31m12.2 MB/s\u001b[0m eta \u001b[36m0:00:00\u001b[0m\n\u001b[?25hCollecting numexpr<3.0.0,>=2.8.4\n  Downloading numexpr-2.8.7-cp310-cp310-manylinux_2_17_x86_64.manylinux2014_x86_64.whl (384 kB)\n\u001b[2K     \u001b[90m━━━━━━━━━━━━━━━━━━━━━━━━━━━━━━━━━━━━━━\u001b[0m \u001b[32m384.1/384.1 kB\u001b[0m \u001b[31m35.0 MB/s\u001b[0m eta \u001b[36m0:00:00\u001b[0m\n\u001b[?25hCollecting langsmith<0.1.0,>=0.0.11\n  Downloading langsmith-0.0.41-py3-none-any.whl (39 kB)\nRequirement already satisfied: SQLAlchemy<3,>=1.4 in /anaconda/envs/azureml_py310_sdkv2/lib/python3.10/site-packages (from langchain==0.0.245->-r requirements.txt (line 7)) (1.4.46)\nRequirement already satisfied: PyYAML>=5.4.1 in /anaconda/envs/azureml_py310_sdkv2/lib/python3.10/site-packages (from langchain==0.0.245->-r requirements.txt (line 7)) (6.0)\nCollecting dataclasses-json<0.6.0,>=0.5.7\n  Downloading dataclasses_json-0.5.14-py3-none-any.whl (26 kB)\nCollecting aiohttp<4.0.0,>=3.8.3\n  Downloading aiohttp-3.8.5-cp310-cp310-manylinux_2_17_x86_64.manylinux2014_x86_64.whl (1.0 MB)\n\u001b[2K     \u001b[90m━━━━━━━━━━━━━━━━━━━━━━━━━━━━━━━━━━━━━━━━\u001b[0m \u001b[32m1.0/1.0 MB\u001b[0m \u001b[31m57.2 MB/s\u001b[0m eta \u001b[36m0:00:00\u001b[0m\n\u001b[?25hRequirement already satisfied: azure-core<2.0.0,>=1.24.0 in /anaconda/envs/azureml_py310_sdkv2/lib/python3.10/site-packages (from azure-search-documents==11.4.0b6->-r requirements.txt (line 8)) (1.26.2)\nRequirement already satisfied: azure-common~=1.1 in /anaconda/envs/azureml_py310_sdkv2/lib/python3.10/site-packages (from azure-search-documents==11.4.0b6->-r requirements.txt (line 8)) (1.1.28)\nRequirement already satisfied: isodate>=0.6.0 in /anaconda/envs/azureml_py310_sdkv2/lib/python3.10/site-packages (from azure-search-documents==11.4.0b6->-r requirements.txt (line 8)) (0.6.1)\nRequirement already satisfied: tqdm in /anaconda/envs/azureml_py310_sdkv2/lib/python3.10/site-packages (from openai->-r requirements.txt (line 2)) (4.64.1)\nCollecting plotly\n  Downloading plotly-5.17.0-py2.py3-none-any.whl (15.6 MB)\n\u001b[2K     \u001b[90m━━━━━━━━━━━━━━━━━━━━━━━━━━━━━━━━━━━━━━━━\u001b[0m \u001b[32m15.6/15.6 MB\u001b[0m \u001b[31m80.0 MB/s\u001b[0m eta \u001b[36m0:00:00\u001b[0m00:01\u001b[0m00:01\u001b[0m\n\u001b[?25hRequirement already satisfied: scikit-learn>=1.0.2 in /anaconda/envs/azureml_py310_sdkv2/lib/python3.10/site-packages (from openai->-r requirements.txt (line 2)) (1.2.0)\nCollecting pandas-stubs>=1.1.0.11\n  Downloading pandas_stubs-2.1.1.230928-py3-none-any.whl (153 kB)\n\u001b[2K     \u001b[90m━━━━━━━━━━━━━━━━━━━━━━━━━━━━━━━━━━━━━━\u001b[0m \u001b[32m153.5/153.5 kB\u001b[0m \u001b[31m20.6 MB/s\u001b[0m eta \u001b[36m0:00:00\u001b[0m\n\u001b[?25hRequirement already satisfied: scipy in /anaconda/envs/azureml_py310_sdkv2/lib/python3.10/site-packages (from openai->-r requirements.txt (line 2)) (1.10.0)\nCollecting openpyxl>=3.0.7\n  Downloading openpyxl-3.1.2-py2.py3-none-any.whl (249 kB)\n\u001b[2K     \u001b[90m━━━━━━━━━━━━━━━━━━━━━━━━━━━━━━━━━━━━━━\u001b[0m \u001b[32m250.0/250.0 kB\u001b[0m \u001b[31m27.5 MB/s\u001b[0m eta \u001b[36m0:00:00\u001b[0m\n\u001b[?25hRequirement already satisfied: matplotlib in /anaconda/envs/azureml_py310_sdkv2/lib/python3.10/site-packages (from openai->-r requirements.txt (line 2)) (3.6.3)\nRequirement already satisfied: python-dateutil>=2.8.1 in /anaconda/envs/azureml_py310_sdkv2/lib/python3.10/site-packages (from pandas->-r requirements.txt (line 4)) (2.8.2)\nRequirement already satisfied: pytz>=2020.1 in /anaconda/envs/azureml_py310_sdkv2/lib/python3.10/site-packages (from pandas->-r requirements.txt (line 4)) (2022.7.1)\nRequirement already satisfied: click<9,>=7.0 in /anaconda/envs/azureml_py310_sdkv2/lib/python3.10/site-packages (from streamlit->-r requirements.txt (line 6)) (8.0.4)\nCollecting validators<1,>=0.2\n  Downloading validators-0.22.0-py3-none-any.whl (26 kB)\nCollecting toml<2,>=0.10.1\n  Downloading toml-0.10.2-py2.py3-none-any.whl (16 kB)\nRequirement already satisfied: typing-extensions<5,>=4.1.0 in /anaconda/envs/azureml_py310_sdkv2/lib/python3.10/site-packages (from streamlit->-r requirements.txt (line 6)) (4.4.0)\nRequirement already satisfied: pillow<11,>=7.1.0 in /anaconda/envs/azureml_py310_sdkv2/lib/python3.10/site-packages (from streamlit->-r requirements.txt (line 6)) (9.4.0)\nRequirement already satisfied: tornado<7,>=6.0.3 in /anaconda/envs/azureml_py310_sdkv2/lib/python3.10/site-packages (from streamlit->-r requirements.txt (line 6)) (6.1)\nCollecting altair<6,>=4.0\n  Downloading altair-5.1.1-py3-none-any.whl (520 kB)\n\u001b[2K     \u001b[90m━━━━━━━━━━━━━━━━━━━━━━━━━━━━━━━━━━━━━━\u001b[0m \u001b[32m520.6/520.6 kB\u001b[0m \u001b[31m43.9 MB/s\u001b[0m eta \u001b[36m0:00:00\u001b[0m\n\u001b[?25hRequirement already satisfied: pyarrow>=6.0 in /anaconda/envs/azureml_py310_sdkv2/lib/python3.10/site-packages (from streamlit->-r requirements.txt (line 6)) (10.0.1)\nCollecting rich<14,>=10.14.0\n  Downloading rich-13.6.0-py3-none-any.whl (239 kB)\n\u001b[2K     \u001b[90m━━━━━━━━━━━━━━━━━━━━━━━━━━━━━━━━━━━━━━\u001b[0m \u001b[32m239.8/239.8 kB\u001b[0m \u001b[31m25.0 MB/s\u001b[0m eta \u001b[36m0:00:00\u001b[0m\n\u001b[?25hCollecting pydeck<1,>=0.8.0b4\n  Downloading pydeck-0.8.1b0-py2.py3-none-any.whl (4.8 MB)\n\u001b[2K     \u001b[90m━━━━━━━━━━━━━━━━━━━━━━━━━━━━━━━━━━━━━━━━\u001b[0m \u001b[32m4.8/4.8 MB\u001b[0m \u001b[31m82.6 MB/s\u001b[0m eta \u001b[36m0:00:00\u001b[0m:00:01\u001b[0m\n\u001b[?25hCollecting blinker<2,>=1.0.0\n  Downloading blinker-1.6.2-py3-none-any.whl (13 kB)\nCollecting tzlocal<6,>=1.1\n  Downloading tzlocal-5.0.1-py3-none-any.whl (20 kB)\nRequirement already satisfied: packaging<24,>=16.8 in /anaconda/envs/azureml_py310_sdkv2/lib/python3.10/site-packages (from streamlit->-r requirements.txt (line 6)) (21.3)\nRequirement already satisfied: gitpython!=3.1.19,<4,>=3.0.7 in /anaconda/envs/azureml_py310_sdkv2/lib/python3.10/site-packages (from streamlit->-r requirements.txt (line 6)) (3.1.30)\nRequirement already satisfied: cachetools<6,>=4.0 in /anaconda/envs/azureml_py310_sdkv2/lib/python3.10/site-packages (from streamlit->-r requirements.txt (line 6)) (5.2.1)\nCollecting watchdog>=2.1.5\n  Downloading watchdog-3.0.0-py3-none-manylinux2014_x86_64.whl (82 kB)\n\u001b[2K     \u001b[90m━━━━━━━━━━━━━━━━━━━━━━━━━━━━━━━━━━━━━━━━\u001b[0m \u001b[32m82.1/82.1 kB\u001b[0m \u001b[31m10.6 MB/s\u001b[0m eta \u001b[36m0:00:00\u001b[0m\n\u001b[?25hRequirement already satisfied: importlib-metadata<7,>=1.4 in /anaconda/envs/azureml_py310_sdkv2/lib/python3.10/site-packages (from streamlit->-r requirements.txt (line 6)) (5.2.0)\nRequirement already satisfied: protobuf<5,>=3.20 in /anaconda/envs/azureml_py310_sdkv2/lib/python3.10/site-packages (from streamlit->-r requirements.txt (line 6)) (3.20.3)\nCollecting regex>=2022.1.18\n  Downloading regex-2023.8.8-cp310-cp310-manylinux_2_17_x86_64.manylinux2014_x86_64.whl (771 kB)\n\u001b[2K     \u001b[90m━━━━━━━━━━━━━━━━━━━━━━━━━━━━━━━━━━━━━━\u001b[0m \u001b[32m771.9/771.9 kB\u001b[0m \u001b[31m48.0 MB/s\u001b[0m eta \u001b[36m0:00:00\u001b[0m\n\u001b[?25hRequirement already satisfied: aiosignal>=1.1.2 in /anaconda/envs/azureml_py310_sdkv2/lib/python3.10/site-packages (from aiohttp<4.0.0,>=3.8.3->langchain==0.0.245->-r requirements.txt (line 7)) (1.3.1)\nRequirement already satisfied: charset-normalizer<4.0,>=2.0 in /anaconda/envs/azureml_py310_sdkv2/lib/python3.10/site-packages (from aiohttp<4.0.0,>=3.8.3->langchain==0.0.245->-r requirements.txt (line 7)) (3.0.1)\nCollecting yarl<2.0,>=1.0\n  Downloading yarl-1.9.2-cp310-cp310-manylinux_2_17_x86_64.manylinux2014_x86_64.whl (268 kB)\n\u001b[2K     \u001b[90m━━━━━━━━━━━━━━━━━━━━━━━━━━━━━━━━━━━━━━\u001b[0m \u001b[32m268.8/268.8 kB\u001b[0m \u001b[31m29.7 MB/s\u001b[0m eta \u001b[36m0:00:00\u001b[0m\n\u001b[?25hRequirement already satisfied: attrs>=17.3.0 in /anaconda/envs/azureml_py310_sdkv2/lib/python3.10/site-packages (from aiohttp<4.0.0,>=3.8.3->langchain==0.0.245->-r requirements.txt (line 7)) (22.2.0)\nRequirement already satisfied: frozenlist>=1.1.1 in /anaconda/envs/azureml_py310_sdkv2/lib/python3.10/site-packages (from aiohttp<4.0.0,>=3.8.3->langchain==0.0.245->-r requirements.txt (line 7)) (1.3.3)\nCollecting multidict<7.0,>=4.5\n  Downloading multidict-6.0.4-cp310-cp310-manylinux_2_17_x86_64.manylinux2014_x86_64.whl (114 kB)\n\u001b[2K     \u001b[90m━━━━━━━━━━━━━━━━━━━━━━━━━━━━━━━━━━━━━━\u001b[0m \u001b[32m114.5/114.5 kB\u001b[0m \u001b[31m16.2 MB/s\u001b[0m eta \u001b[36m0:00:00\u001b[0m\n\u001b[?25hCollecting toolz\n  Downloading toolz-0.12.0-py3-none-any.whl (55 kB)\n\u001b[2K     \u001b[90m━━━━━━━━━━━━━━━━━━━━━━━━━━━━━━━━━━━━━━━━\u001b[0m \u001b[32m55.8/55.8 kB\u001b[0m \u001b[31m6.4 MB/s\u001b[0m eta \u001b[36m0:00:00\u001b[0m\n\u001b[?25hRequirement already satisfied: jsonschema>=3.0 in /anaconda/envs/azureml_py310_sdkv2/lib/python3.10/site-packages (from altair<6,>=4.0->streamlit->-r requirements.txt (line 6)) (4.17.3)\nRequirement already satisfied: jinja2 in /anaconda/envs/azureml_py310_sdkv2/lib/python3.10/site-packages (from altair<6,>=4.0->streamlit->-r requirements.txt (line 6)) (3.1.2)\nRequirement already satisfied: six>=1.11.0 in /anaconda/envs/azureml_py310_sdkv2/lib/python3.10/site-packages (from azure-core<2.0.0,>=1.24.0->azure-search-documents==11.4.0b6->-r requirements.txt (line 8)) (1.16.0)\nCollecting typing-inspect<1,>=0.4.0\n  Downloading typing_inspect-0.9.0-py3-none-any.whl (8.8 kB)\nRequirement already satisfied: marshmallow<4.0.0,>=3.18.0 in /anaconda/envs/azureml_py310_sdkv2/lib/python3.10/site-packages (from dataclasses-json<0.6.0,>=0.5.7->langchain==0.0.245->-r requirements.txt (line 7)) (3.19.0)\nRequirement already satisfied: gitdb<5,>=4.0.1 in /anaconda/envs/azureml_py310_sdkv2/lib/python3.10/site-packages (from gitpython!=3.1.19,<4,>=3.0.7->streamlit->-r requirements.txt (line 6)) (4.0.10)\nRequirement already satisfied: zipp>=0.5 in /anaconda/envs/azureml_py310_sdkv2/lib/python3.10/site-packages (from importlib-metadata<7,>=1.4->streamlit->-r requirements.txt (line 6)) (3.11.0)\nCollecting et-xmlfile\n  Downloading et_xmlfile-1.1.0-py3-none-any.whl (4.7 kB)\nRequirement already satisfied: pyparsing!=3.0.5,>=2.0.2 in /anaconda/envs/azureml_py310_sdkv2/lib/python3.10/site-packages (from packaging<24,>=16.8->streamlit->-r requirements.txt (line 6)) (3.0.9)\nCollecting numpy\n  Downloading numpy-1.26.0-cp310-cp310-manylinux_2_17_x86_64.manylinux2014_x86_64.whl (18.2 MB)\n\u001b[2K     \u001b[90m━━━━━━━━━━━━━━━━━━━━━━━━━━━━━━━━━━━━━━━━\u001b[0m \u001b[32m18.2/18.2 MB\u001b[0m \u001b[31m67.4 MB/s\u001b[0m eta \u001b[36m0:00:00\u001b[0m00:01\u001b[0m00:01\u001b[0m\n\u001b[?25hCollecting types-pytz>=2022.1.1\n  Downloading types_pytz-2023.3.1.1-py3-none-any.whl (4.9 kB)\nRequirement already satisfied: certifi>=2017.4.17 in /anaconda/envs/azureml_py310_sdkv2/lib/python3.10/site-packages (from requests<3,>=2->langchain==0.0.245->-r requirements.txt (line 7)) (2022.6.15)\nRequirement already satisfied: urllib3<1.27,>=1.21.1 in /anaconda/envs/azureml_py310_sdkv2/lib/python3.10/site-packages (from requests<3,>=2->langchain==0.0.245->-r requirements.txt (line 7)) (1.26.14)\nRequirement already satisfied: idna<4,>=2.5 in /anaconda/envs/azureml_py310_sdkv2/lib/python3.10/site-packages (from requests<3,>=2->langchain==0.0.245->-r requirements.txt (line 7)) (3.4)\nCollecting markdown-it-py>=2.2.0\n  Downloading markdown_it_py-3.0.0-py3-none-any.whl (87 kB)\n\u001b[2K     \u001b[90m━━━━━━━━━━━━━━━━━━━━━━━━━━━━━━━━━━━━━━━━\u001b[0m \u001b[32m87.5/87.5 kB\u001b[0m \u001b[31m8.3 MB/s\u001b[0m eta \u001b[36m0:00:00\u001b[0m\n\u001b[?25hCollecting pygments<3.0.0,>=2.13.0\n  Downloading Pygments-2.16.1-py3-none-any.whl (1.2 MB)\n\u001b[2K     \u001b[90m━━━━━━━━━━━━━━━━━━━━━━━━━━━━━━━━━━━━━━━━\u001b[0m \u001b[32m1.2/1.2 MB\u001b[0m \u001b[31m57.5 MB/s\u001b[0m eta \u001b[36m0:00:00\u001b[0m\n\u001b[?25hRequirement already satisfied: threadpoolctl>=2.0.0 in /anaconda/envs/azureml_py310_sdkv2/lib/python3.10/site-packages (from scikit-learn>=1.0.2->openai->-r requirements.txt (line 2)) (3.1.0)\nRequirement already satisfied: joblib>=1.1.1 in /anaconda/envs/azureml_py310_sdkv2/lib/python3.10/site-packages (from scikit-learn>=1.0.2->openai->-r requirements.txt (line 2)) (1.2.0)\nRequirement already satisfied: greenlet!=0.4.17 in /anaconda/envs/azureml_py310_sdkv2/lib/python3.10/site-packages (from SQLAlchemy<3,>=1.4->langchain==0.0.245->-r requirements.txt (line 7)) (2.0.1)\nRequirement already satisfied: kiwisolver>=1.0.1 in /anaconda/envs/azureml_py310_sdkv2/lib/python3.10/site-packages (from matplotlib->openai->-r requirements.txt (line 2)) (1.4.4)\nRequirement already satisfied: fonttools>=4.22.0 in /anaconda/envs/azureml_py310_sdkv2/lib/python3.10/site-packages (from matplotlib->openai->-r requirements.txt (line 2)) (4.38.0)\nRequirement already satisfied: contourpy>=1.0.1 in /anaconda/envs/azureml_py310_sdkv2/lib/python3.10/site-packages (from matplotlib->openai->-r requirements.txt (line 2)) (1.0.7)\nRequirement already satisfied: cycler>=0.10 in /anaconda/envs/azureml_py310_sdkv2/lib/python3.10/site-packages (from matplotlib->openai->-r requirements.txt (line 2)) (0.11.0)\nRequirement already satisfied: smmap<6,>=3.0.1 in /anaconda/envs/azureml_py310_sdkv2/lib/python3.10/site-packages (from gitdb<5,>=4.0.1->gitpython!=3.1.19,<4,>=3.0.7->streamlit->-r requirements.txt (line 6)) (5.0.0)\nRequirement already satisfied: MarkupSafe>=2.0 in /anaconda/envs/azureml_py310_sdkv2/lib/python3.10/site-packages (from jinja2->altair<6,>=4.0->streamlit->-r requirements.txt (line 6)) (2.1.2)\nRequirement already satisfied: pyrsistent!=0.17.0,!=0.17.1,!=0.17.2,>=0.14.0 in /anaconda/envs/azureml_py310_sdkv2/lib/python3.10/site-packages (from jsonschema>=3.0->altair<6,>=4.0->streamlit->-r requirements.txt (line 6)) (0.19.3)\nCollecting mdurl~=0.1\n  Downloading mdurl-0.1.2-py3-none-any.whl (10.0 kB)\nCollecting mypy-extensions>=0.3.0\n  Downloading mypy_extensions-1.0.0-py3-none-any.whl (4.7 kB)\nInstalling collected packages: types-pytz, faiss-cpu, watchdog, validators, tzlocal, toolz, toml, tenacity, regex, python-dotenv, pygments, pydantic, numpy, mypy-extensions, multidict, mdurl, et-xmlfile, blinker, async-timeout, yarl, typing-inspect, tiktoken, pydeck, plotly, pandas-stubs, openpyxl, openapi-schema-pydantic, numexpr, markdown-it-py, langsmith, rich, dataclasses-json, azure-search-documents, altair, aiohttp, streamlit, openai, langchain\n  Attempting uninstall: pygments\n    Found existing installation: Pygments 2.11.2\n    Uninstalling Pygments-2.11.2:\n      Successfully uninstalled Pygments-2.11.2\n  Attempting uninstall: numpy\n    Found existing installation: numpy 1.24.1\n    Uninstalling numpy-1.24.1:\n      Successfully uninstalled numpy-1.24.1\n\u001b[31mERROR: pip's dependency resolver does not currently take into account all the packages that are installed. This behaviour is the source of the following dependency conflicts.\nnumba 0.56.4 requires numpy<1.24,>=1.18, but you have numpy 1.26.0 which is incompatible.\u001b[0m\u001b[31m\n\u001b[0mSuccessfully installed aiohttp-3.8.5 altair-5.1.1 async-timeout-4.0.3 azure-search-documents-11.4.0b6 blinker-1.6.2 dataclasses-json-0.5.14 et-xmlfile-1.1.0 faiss-cpu-1.7.4 langchain-0.0.245 langsmith-0.0.41 markdown-it-py-3.0.0 mdurl-0.1.2 multidict-6.0.4 mypy-extensions-1.0.0 numexpr-2.8.7 numpy-1.26.0 openai-0.28.1 openapi-schema-pydantic-1.2.4 openpyxl-3.1.2 pandas-stubs-2.1.1.230928 plotly-5.17.0 pydantic-1.10.13 pydeck-0.8.1b0 pygments-2.16.1 python-dotenv-1.0.0 regex-2023.8.8 rich-13.6.0 streamlit-1.27.1 tenacity-8.2.3 tiktoken-0.5.1 toml-0.10.2 toolz-0.12.0 types-pytz-2023.3.1.1 typing-inspect-0.9.0 tzlocal-5.0.1 validators-0.22.0 watchdog-3.0.0 yarl-1.9.2\nNote: you may need to restart the kernel to use updated packages.\n"
        }
      ],
      "execution_count": 6,
      "metadata": {
        "gather": {
          "logged": 1696341373678
        }
      }
    },
    {
      "cell_type": "markdown",
      "source": [
        "### Run a query on a local csv file by creating local embeddings"
      ],
      "metadata": {
        "nteract": {
          "transient": {
            "deleting": false
          }
        }
      }
    },
    {
      "cell_type": "markdown",
      "source": [
        "Import required libraries"
      ],
      "metadata": {
        "nteract": {
          "transient": {
            "deleting": false
          }
        }
      }
    },
    {
      "cell_type": "code",
      "source": [
        "import os\n",
        "import openai\n",
        "import requests\n",
        "import numpy as np\n",
        "import pandas as pd\n",
        "from openai.embeddings_utils import get_embedding, cosine_similarity"
      ],
      "outputs": [],
      "execution_count": 95,
      "metadata": {
        "jupyter": {
          "source_hidden": false,
          "outputs_hidden": false
        },
        "nteract": {
          "transient": {
            "deleting": false
          }
        },
        "gather": {
          "logged": 1696365118786
        }
      }
    },
    {
      "cell_type": "markdown",
      "source": [
        "You also need to [deploy a new model](https://learn.microsoft.com/en-us/azure/ai-services/openai/how-to/create-resource?pivots=web-portal#deploy-a-model). You need to select and deploy `text-embedding-ada-0021`. If you get an error downstream about your model not being ready, give it up to five minutes for everything to sync. "
      ],
      "metadata": {
        "nteract": {
          "transient": {
            "deleting": false
          }
        }
      }
    },
    {
      "cell_type": "markdown",
      "source": [
        "For simplicity, we just use a microsoft example here, but you could theoretically use any csv file. This example is a recent earning report given by the CEO of Microsoft. "
      ],
      "metadata": {
        "nteract": {
          "transient": {
            "deleting": false
          }
        }
      }
    },
    {
      "cell_type": "code",
      "source": [
        "# read the data file to be embedded\n",
        "df = pd.read_csv('microsoft-earnings.csv')\n",
        "print(df)"
      ],
      "outputs": [],
      "execution_count": null,
      "metadata": {
        "jupyter": {
          "source_hidden": false,
          "outputs_hidden": false
        },
        "nteract": {
          "transient": {
            "deleting": false
          }
        },
        "gather": {
          "logged": 1696367383849
        }
      }
    },
    {
      "cell_type": "code",
      "source": [
        "# set keys and configure Azure OpenAI\n",
        "openai.api_type = \"azure\"\n",
        "openai.api_base = \"<YOUR BASE URL>\"\n",
        "openai.api_version = \"2023-07-01-preview\"\n",
        "# get the key from the instructions in the README of this repo. \n",
        "#You can also just click View Code in the chat playground\n",
        "openai.api_key = \"<YOUR KEY>\"\n"
      ],
      "outputs": [],
      "execution_count": 125,
      "metadata": {
        "jupyter": {
          "source_hidden": false,
          "outputs_hidden": false
        },
        "nteract": {
          "transient": {
            "deleting": false
          }
        },
        "gather": {
          "logged": 1696367387035
        }
      }
    },
    {
      "cell_type": "code",
      "source": [
        "# calculate word embeddings \n",
        "df['embedding'] = df['text'].apply(lambda x:get_embedding(x, engine='text-embedding-ada-002'))\n",
        "df.to_csv('microsoft-earnings_embeddings.csv')\n",
        "print(df)"
      ],
      "outputs": [
        {
          "output_type": "stream",
          "name": "stdout",
          "text": "                                                 text  \\\n0   Thank you, Brett. To start, I want to outline ...   \n1   With that context, this quarter, the Microsoft...   \n2   It helps them align their spend with demand an...   \n3   We are the platform of choice for customers' S...   \n4   Now to data and AI. With our Microsoft Intelli...   \n..                                                ...   \n57  Other income and expense should be roughly $10...   \n58  And finally, as a reminder, for Q2 cash flow, ...   \n59  And FX should decrease COGS and operating expe...   \n60  With the high margins in our Windows OEM busin...   \n61  And while we continue to help our customers do...   \n\n                                            embedding  \n0   [-0.009504559449851513, -0.003731543431058526,...  \n1   [-0.0016425022622570395, -0.028921114280819893...  \n2   [0.008828130550682545, -0.03199512138962746, 0...  \n3   [0.011994918808341026, -0.024179909378290176, ...  \n4   [-0.004754434805363417, 0.0038801338523626328,...  \n..                                                ...  \n57  [-0.01832527294754982, -0.014160438440740108, ...  \n58  [-0.012947804294526577, -0.010494815185666084,...  \n59  [0.0009612650028429925, -0.01565629616379738, ...  \n60  [0.010544494725763798, -0.03846913203597069, -...  \n61  [-0.014238400384783745, -0.011069077998399734,...  \n\n[62 rows x 2 columns]\n"
        }
      ],
      "execution_count": 126,
      "metadata": {
        "jupyter": {
          "source_hidden": false,
          "outputs_hidden": false
        },
        "nteract": {
          "transient": {
            "deleting": false
          }
        },
        "gather": {
          "logged": 1696367395456
        }
      }
    },
    {
      "cell_type": "markdown",
      "source": [
        "Query the embeddings. After each query you put into the little box, you need to rerun this cell to reset the query. "
      ],
      "metadata": {
        "nteract": {
          "transient": {
            "deleting": false
          }
        }
      }
    },
    {
      "cell_type": "code",
      "source": [
        "# read in the embeddings .csv \n",
        "# convert elements in 'embedding' column back to numpy array\n",
        "df = pd.read_csv('microsoft-earnings_embeddings.csv')\n",
        "df['embedding'] = df['embedding'].apply(eval).apply(np.array)\n",
        "\n",
        "# caluculate user query embedding \n",
        "search_term = input(\"Enter a search term: \")\n",
        "if search_term:\n",
        "    search_term_vector = get_embedding(search_term, engine='text-embedding-ada-002')\n",
        "\n",
        "    # find similiarity between query and vectors \n",
        "    df['similarities'] = df['embedding'].apply(lambda x:cosine_similarity(x, search_term_vector))\n",
        "    df1 = df.sort_values(\"similarities\", ascending=False).head(5)\n",
        "\n",
        "    # output the response \n",
        "    print('\\n')\n",
        "    print('Answer: ', df1['text'].loc[df1.index[0]])\n",
        "    print('\\n')\n",
        "    print('Similarity Score: ', df1['similarities'].loc[df1.index[0]]) \n",
        "    print('\\n')"
      ],
      "outputs": [],
      "execution_count": 127,
      "metadata": {
        "jupyter": {
          "source_hidden": false,
          "outputs_hidden": false
        },
        "nteract": {
          "transient": {
            "deleting": false
          }
        },
        "gather": {
          "logged": 1696346882392
        }
      }
    },
    {
      "cell_type": "markdown",
      "source": [
        "### Query your own data"
      ],
      "metadata": {
        "nteract": {
          "transient": {
            "deleting": false
          }
        }
      }
    },
    {
      "cell_type": "markdown",
      "source": [
        "In the README, we show how to add your own data. When you have done this, type in a query, and then similar to what we show for above, if you click **View Code** in the Chat Playground, it will show you all the metadata you need to fill in here."
      ],
      "metadata": {
        "nteract": {
          "transient": {
            "deleting": false
          }
        }
      }
    },
    {
      "cell_type": "code",
      "source": [
        "openai.api_type = \"azure\"\n",
        "openai.api_version = \"2023-08-01-preview\"\n",
        "# Azure OpenAI setup\n",
        "openai.api_base = \"<YOUR BASE URL>\" # Add your endpoint here\n",
        "deployment_id = \"<YOUR DEPLOYMENT ID>\" # Add your deployment ID here\n",
        "# Azure Cognitive Search setup\n",
        "search_endpoint = \"<YOUR COG SEARCH BASE URL>\"; # Add your Azure Cognitive Search endpoint here\n",
        "# This is different than the key from above, its the key for the Cog search\n",
        "search_key = \"<YOUR SEARCH KEY>\"; # Add your Azure Cognitive Search admin key here\n",
        "search_index_name = \"<YOUR SEARCH INDEX>\"; # Add your Azure Cognitive Search index name here\n"
      ],
      "outputs": [],
      "execution_count": null,
      "metadata": {
        "jupyter": {
          "source_hidden": false,
          "outputs_hidden": false
        },
        "nteract": {
          "transient": {
            "deleting": false
          }
        }
      }
    },
    {
      "cell_type": "markdown",
      "source": [
        "Now run the query, note that the query is defined in the block below, and will output in Json format"
      ],
      "metadata": {
        "nteract": {
          "transient": {
            "deleting": false
          }
        }
      }
    },
    {
      "cell_type": "code",
      "source": [
        "def setup_byod(deployment_id: str) -> None:\n",
        "    \"\"\"Sets up the OpenAI Python SDK to use your own data for the chat endpoint.\n",
        "\n",
        "    :param deployment_id: The deployment ID for the model to use with your own data.\n",
        "\n",
        "    To remove this configuration, simply set openai.requestssession to None.\n",
        "    \"\"\"\n",
        "\n",
        "    class BringYourOwnDataAdapter(requests.adapters.HTTPAdapter):\n",
        "\n",
        "        def send(self, request, **kwargs):\n",
        "            request.url = f\"{openai.api_base}/openai/deployments/{deployment_id}/extensions/chat/completions?api-version={openai.api_version}\"\n",
        "            return super().send(request, **kwargs)\n",
        "\n",
        "    session = requests.Session()\n",
        "\n",
        "    # Mount a custom adapter which will use the extensions endpoint for any call using the given `deployment_id`\n",
        "    session.mount(\n",
        "        prefix=f\"{openai.api_base}/openai/deployments/{deployment_id}\",\n",
        "        adapter=BringYourOwnDataAdapter()\n",
        "    )\n",
        "\n",
        "    openai.requestssession = session\n",
        "\n",
        "setup_byod(deployment_id)\n",
        "\n",
        "completion = openai.ChatCompletion.create(\n",
        "    messages=[{\"role\": \"user\", \"content\": \"What were some of the phenotypic presentations of MPOX on patients with HIV?\"}],\n",
        "    deployment_id=deployment_id,\n",
        "    dataSources=[  # camelCase is intentional, as this is the format the API expects\n",
        "        {\n",
        "            \"type\": \"AzureCognitiveSearch\",\n",
        "            \"parameters\": {\n",
        "                \"endpoint\": search_endpoint,\n",
        "                \"key\": search_key,\n",
        "                \"indexName\": search_index_name,\n",
        "            }\n",
        "        }\n",
        "    ]\n",
        ")\n",
        "print(completion)\n"
      ],
      "outputs": [
        {
          "output_type": "stream",
          "name": "stdout",
          "text": "{\n  \"id\": \"b50189ac-6646-4728-893b-f88eb6e2f60a\",\n  \"model\": \"gpt-35-turbo\",\n  \"created\": 1696353881,\n  \"object\": \"chat.completion\",\n  \"choices\": [\n    {\n      \"index\": 0,\n      \"messages\": [\n        {\n          \"index\": 0,\n          \"role\": \"tool\",\n          \"content\": \"{\\\"citations\\\": [{\\\"content\\\": \\\"Of interest, there was \\\\na dramatic increase in the level of CD38+HLA-DR+ CD8+ T \\\\ncells after mpox infection (Figure 2C and 2D). In addition, lev-\\\\nels of plasma biomarkers\\u2014including granzyme B, perforin, \\\\nRANTES (regulated on activation, normal T cell expressed \\\\nand secreted), CCL3, CXCL10, IL-2R\\u03b1, PD-L1, but not \\\\nIL-6 increased markedly with mpox infection (Figure 2E).\\\\nFinally, we examined the impact of mpox on the size of HIV res-\\\\nervoirs carrying intact proviral DNA in highly enriched CD4+ T \\\\ncells of the study participant (Figure 2F). No significant changes \\\\nwere noted in the level of intact or defective proviral HIV DNA, \\\\nsuggesting that a mild case of mpox infection, while inducing a \\\\nstrong immunologic response, did not lead to any substantial chan-\\\\nge in the size of the persistent HIV reservoir in this participant.\\\\nC\\\\nD\\\\nA B\\\\n0 1 2 3\\\\n0\\\\n400\\\\n800\\\\n1200\\\\n1600\\\\n2000\\\\nCD8+ T cells\\\\nCD4+ T cells\\\\n0 1 2 3\\\\n101\\\\n102\\\\n103\\\\n104\\\\n105\\\\nDuration of ART, y Duration of ART, y\\\\nP\\\\nla\\\\nsm\\\\na \\\\nV\\\\nire\\\\nm\\\\nia\\\\n, C\\\\nop\\\\nie\\\\ns/\\\\nm\\\\nL\\\\nT\\\\n-C\\\\nel\\\\nl C\\\\nou\\\\nnt\\\\n, C\\\\nel\\\\nls\\\\n/m\\\\nL\\\\nFigure 1. Clinical presentation and characteristic in a woman with human immunodeficiency virus (HIV) and mild mpox infection. A, Plasma HIV viremia since diagnosis of \\\\nHIV, by duration of antiretroviral therapy (ART). B, Total CD4+ and CD8+ T-cell counts since diagnosis of HIV, by duration of ART. C, D, Appearance of mpox lesions at initial \\\\npresentation on 6 September 2022 (C ) and at follow-up clinic visit on 28 September 2022 (D).\\\\n272 \\u2022 JID 2023:228 (1 August) \\u2022 BRIEF REPORT\\\\nD\\\\now\\\\nnloaded from\\\\n https://academ\\\\nic.oup.com\\\\n/jid/article/228/3/270/7109857 by guest on 08 Septem\\\\nber 2023\\\\nDISCUSSION\\\\nWe present a woman with HIV receiving ART, in whom we con-\\\\nducted comprehensive immunologic and virologic analyses before \\\\nand after mild mpox. It has been shown recently in a global series \\\\nthat clinical features of mpox in women are similar to those de-\\\\nscribed in men [11]. To our knowledge, this is one of the first de-\\\\ntailed reports of a woman with HIV with mpox that included \\\\nextensive analyses of lymphocytes and HIV reservoirs\\\", \\\"id\\\": null, \\\"title\\\": \\\"Impact of Monkeypox Virus\\\", \\\"filepath\\\": \\\"Rai_et_al_2023.pdf\\\", \\\"url\\\": \\\"https://cloudlabtestin4367221741.blob.core.windows.net/fileupload-publicationsv5/Rai_et_al_2023.pdf\\\", \\\"metadata\\\": {\\\"chunking\\\": \\\"orignal document size=634. Scores=13.5623Org Highlight count=60.\\\"}, \\\"chunk_id\\\": \\\"0\\\"}, {\\\"content\\\": \\\"The elevation in certain biomarkers in plasma samples from \\\\nour study participant after mpox infection largely agrees with a \\\\ncross-sectional study [15], although her levels of IL-6 remained \\\\nunchanged after mpox infection. Further investigation in a larger \\\\nstudy of PWLH is needed, especially given the variable kinetics of \\\\nIL-6 that has been reported after mpox infection [2] and the un-\\\\nknown effect of HIV infection on these kinetics. Collectively, our \\\\ndata show that a robust immune response occurred despite a \\\\nmild and self-limiting mpox infection. Of interest, we observed \\\\nno significant change in the size of HIV-infected CD4+ T cells \\\\ncarrying intact proviral DNA, despite dynamic changes in im-\\\\nmune activation and inflammation.\\\\nMajor caveats include the sample size, which was limited to a \\\\nsingle study participant, and the lack of mpox antigen-specific \\\\nimmune analyses of B and T cells. A larger study involving \\\\ncomprehensive analyses of immunologic and virologic param-\\\\neters will be necessary to better understand the effect of mpox \\\\ninfection on cellular activation and inflammation in PLWH re-\\\\nceiving ART. Nonetheless, the detailed immunologic and viro-\\\\nlogic data obtained from our study participant receiving ART \\\\nwith a mild and self-limited mpox infection offer guidance \\\\nfor future pathogenesis and therapeutic studies involving af-\\\\nfected populations.\\\\nNotes\\\\nAcknowledgments. We are grateful to the study participant \\\\nfor their participation in this study. We thank the National \\\\nInstitute of Allergy and Infectious Diseases HIV Outpatient \\\\nClinic staff for their assistance with the study\\u2019s execution.\\\\nFinancial support. This work was supported by the \\\\nIntramural Research Program of the National Institute of \\\\nAllergy and Infectious Diseases, National Institutes of Health.\\\\nPotential conflicts of interest. All authors: No reported con-\\\\nflicts. All authors have submitted the ICMJE Form for \\\\nDisclosure of Potential Conflicts of Interest.\\\\nReferences\\\\n1. Thornhill JP, Barkati S, Walmsley S, et al. Monkeypox virus \\\\ninfection in humans across 16 countries\\u2014April\\u2013June 2022. \\\\nN Engl J Med 2022; 387:679\\u201391.\\\\n2. Agrati C, Cossarizza A, Mazzotta V, et al. Immunological \\\\nsignature in human cases of monkeypox infection in \\\\n2022 outbreak: an observational study. Lancet Infect Dis \\\\n2023; 23:320\\u201330.\\\\n3. Lum FM, Torres-Ruesta A, Tay MZ, et al. Monkeypox: dis-\\\\nease epidemiology, host immunity and clinical interven-\\\\ntions. Nat Rev Immunol 2022; 22:597\\u2013613.\\\\n4. Tarin-Vicente EJ, Alemany A, Agud-Dios M, et al. Clinical \\\\npresentation and virological assessment of confirmed hu-\\\\nman monkeypox virus cases in Spain: a prospective obser-\\\\nvational cohort study. Lancet 2022; 400:661\\u20139.\\\\n5. Martinez J I, Montalban E G, Bueno S J, et al. Monkeypox \\\\noutbreak predominantly affecting men who have sex with \\\\nmen, Madrid, Spain, 26 April to 16 June 2022. Euro \\\\nSurveill 2022; 27:2200471.\\\\n6. Bruner KM, Wang Z, Simonetti FR, et al. A quantitative ap-\\\\nproach for measuring the reservoir of latent HIV-1 provi-\\\\nruses. Nature 2019; 566:120\\u20135.\\\\n7. Levy CN, Hughes SM, Roychoudhury P, et al. A highly \\\\nmultiplexed droplet digital PCR assay to measure the intact \\\\nHIV-1 proviral reservoir. Cell Rep Med 2021; 2:100243.\\\\n8. Buckner CM, Moir S, Ho J, et al. Characterization of plas-\\\\nmablasts in the blood of HIV-infected viremic individuals: \\\\nevidence for nonspecific immune activation. J Virol 2013; \\\\n87:5800\\u201311.\\\\n9. Ellebedy AH, Jackson KJ, Kissick HT, et al. Defining \\\\nantigen-specific plasmablast and memory B cell subsets \\\\n274 \\u2022 JID 2023:228 (1 August) \\u2022 BRIEF REPORT\\\\nD\\\\now\\\\nnloaded from\\\\n https://academ\\\\nic.oup\\\", \\\"id\\\": null, \\\"title\\\": \\\"Impact of Monkeypox Virus\\\", \\\"filepath\\\": \\\"Rai_et_al_2023.pdf\\\", \\\"url\\\": \\\"https://cloudlabtestin4367221741.blob.core.windows.net/fileupload-publicationsv5/Rai_et_al_2023.pdf\\\", \\\"metadata\\\": {\\\"chunking\\\": \\\"orignal document size=988. Scores=5.053123Org Highlight count=60.\\\"}, \\\"chunk_id\\\": \\\"6\\\"}, {\\\"content\\\": \\\"Impact of Monkeypox Virus \\\\nInfection on Immune Parameters in \\\\na Woman With Human \\\\nImmunodeficiency Virus Receiving \\\\nClinically Effective Antiretroviral \\\\nTherapy\\\\nM. Ali Rai,1, Victoria Shi,1 Brooke D. Kennedy,1 Jesse S. Justement,1\\\\nMaegan R. Manning,1 Lauren Praiss,1 Esther J. Kang,2 Kathleen Gittens,2\\\\nLela Kardava,1 Jana Blazkova,1 Susan Moir,1 and Tae-Wook Chun1\\\\n1Laboratory of Immunoregulation, National Institute of Allergy and Infectious Diseases, \\\\nBethesda, Maryland, USA; and 2Clinical Center, National Institutes of Health, Bethesda, \\\\nMaryland, USA\\\\nWe describe the immunologic and virologic impact of \\\\nmonkeypox (mpox) infection in a woman with human \\\\nimmunodeficiency virus (HIV) whose plasma HIV viremia \\\\nwas suppressed by clinically effective antiretroviral therapy. \\\\nExtensive phenotypic analyses of B and T cells in peripheral \\\\nblood and biomarkers in plasma showed significant \\\\nimmunologic perturbations despite the presence of mild mpox \\\\ndisease. Dramatic shifts were noted in the frequencies of total \\\\nB cells, plasmablasts, and plasmablast immunoglobulin \\\\nisotypes. Flow cytometric analyses showed a dramatic increase \\\\nin the frequency of CD38+HLA-DR+ CD8+ T cells after mpox \\\\ninfection. Our data offer guidance for future studies involving \\\\nmpox infection in affected populations.\\\\nKeywords. HIV; monkeypox; T cells; B cells; Biomarkers.\\\\nReceived 19 January 2023; editorial decision 02 April 2023; accepted 04 April 2023; pub-\\\\nlished online 6 April 2023\\\\nCorrespondence: M. Ali Rai, M.D., Ph.D., Laboratory of Immunoregulation, National Institute \\\\nof Allergy and Infectious Diseases, National Institutes of Heath, 9000 Rockville Pike, Bethesda, \\\\nMD 20892 (ali.rai@nih.gov).\\\\nThe Journal of Infectious Diseases\\u00ae 2023;228:270\\u20135 \\\\nPublished by Oxford University Press on behalf of Infectious Diseases Society of America 2023. \\\\nThis work is written by (a) US Government employee(s) and is in the public domain in the US.\\\\nhttps://doi.org/10.1093/infdis/jiad096\\\\nThe recent outbreak of monkeypox (mpox) has generated a \\\\nunique set of challenges for affected populations and the med-\\\\nical community [1\\u20133]. The majority of reported cases have been \\\\nin men who have sex with men, including people living with \\\\nhuman immunodeficiency virus (HIV) (PLWH), who are at a \\\\nparticularly increased risk [4, 5]. The effects of mpox on the im-\\\\nmune system are not well understood and are important to de-\\\\nlineate in immune-compromised individuals such as PLWH \\\\n[3]. To this end, we evaluated several immunologic and HIV \\\\nreservoir parameters before and after a mild and self-limited \\\\ncase of mpox in a woman with HIV whose HIV viremia was \\\\nsuppressed.\\\\nMETHODS\\\\nConsent Statement\\\\nThe study participant provided informed consent. Blood sam-\\\\nples were collected in accordance with protocols approved by \\\\nthe Institutional Review Board of the National Institutes of \\\\nHealth (NIH).\\\\nB-Cell Analysis\\\\nB-cell phenotyping was performed as described elsewhere [6]\\\", \\\"id\\\": null, \\\"title\\\": \\\"Impact of Monkeypox Virus\\\", \\\"filepath\\\": \\\"Rai_et_al_2023.pdf\\\", \\\"url\\\": \\\"https://cloudlabtestin4367221741.blob.core.windows.net/fileupload-publicationsv5/Rai_et_al_2023.pdf\\\", \\\"metadata\\\": {\\\"chunking\\\": \\\"orignal document size=800. Scores=11.796923Org Highlight count=62.\\\"}, \\\"chunk_id\\\": \\\"1\\\"}, {\\\"content\\\": \\\"Dynamics of immunologic and virologic parameters in a woman with human immunodeficiency virus (HIV) and mild mpox infection. A, Changes in total B cells and \\\\nplasmablasts (PBs) over the course of mpox infection. (Throughout figure, dates appear in month/date/year format.) B, Flow cytometric plots of cell surface immunoglobulin \\\\n(Ig) isotype distribution among PBs at each time point. C, Frequencies of CD38+/HLA-DR+ on CD8+ T cells before (left), during (middle), and after (right) mpox infection. \\\\nD, Frequencies of CD4+ and CD8+ T-cell subsets: na\\u00efve (TN), central memory (TCM), transitional memory (TTM), effector memory (TEM), and effector memory RA (TEMRA). \\\\nThe frequencies of TIGIT, programmed cell death 1 (PD-1), CD160, CD226, 2B4 and CD38/HLA-DR on CD4+ and CD8+ T cells are shown in parallel. E, Plasma levels of granzyme \\\\nB, perforin, CCL5, CCL3, interferon-gamma-inducible protein 10 (IP-10), interleukin-2 receptor \\u03b1 (IL-2R\\u03b1), interleukin 6 (IL-6), and programmed cell death ligand 1 (PD-L1). \\\\nF, Levels of intact, 5\\u2032 defective, and 3\\u2032 defective HIV proviral DNA before, during, and after mpox infection.\\\\nBRIEF REPORT \\u2022 JID 2023:228 (1 August) \\u2022 273\\\\nD\\\\now\\\\nnloaded from\\\\n https://academ\\\\nic.oup.com\\\\n/jid/article/228/3/270/7109857 by guest on 08 Septem\\\\nber 2023\\\\nThe majority of mpox cases to date have been described in \\\\nmen who have sex with men. In this regard, our findings high-\\\\nlight an atypical presentation of mpox in a cis female without \\\\nany inguinal/groin lesions. Although HIV has been associated \\\\nwith worse clinical outcomes [12], our study participant had \\\\na very mild presentation. However, comprehensive analyses \\\\nof phenotypic cell surface markers and biomarkers in plasma \\\\nidentified several immunologic perturbations.\\\\nThere has been a paucity of comprehensive and longitudinal \\\\nanalyses of B cells in mpox-infected humans since the current \\\\noutbreak began. Of note, it has been shown that while serum \\\\nIgG/IgM antibodies to mpox can help identify exposures and \\\\ndelineate response to vaccination, their diagnostic value remain \\\\nuncertain unless longitudinal monitoring is performed [13]. In \\\\nour study participant, mpox was associated with dramatic shifts \\\\nin frequencies of total B cells, PBs, and PB immunoglobulin iso-\\\\ntypes, suggesting a robust B-cell response. Given the strong and \\\\npersistent shift from IgA to IgG PBs, this could be used as a \\\\nmeans of evaluating exposure to mpox even when longitudinal \\\\nsamples are limited. However, additional studies will be neces-\\\\nsary to further characterize the immune responses in diverse \\\\ncohorts with varied clinical manifestations.\\\\nT-cell responses in this mpox outbreak are currently being \\\\ninvestigated. It has been shown that mpox leads to an early ex-\\\\npansion of activated effector T cells [2]. Our data also showed \\\\nan increase in CD8+ effector memory RA cells at the time of \\\\nmpox, with a decrease in na\\u00efve and effector memory CD8+ T \\\\ncells. For CD4+ T cells, we found an increase in effector memory \\\\nand transitional memory cells during mpox, with a decrease in \\\\nthe na\\u00efve T-cell subset. Flow cytometric analyses showed a dra-\\\\nmatic increase in the frequency of CD38+HLA-DR+ CD8+ T cells \\\\nafter the diagnosis of mpox in our participant. It has been shown \\\\nthat an elevated level of HLA-DR+CD38+CD8+ T cells is one of \\\\nthe immunologic hallmarks of HIV infection in viremic PLWH \\\\n[14]. Interestingly, the expression of TIGIT, PD-1, and CD-160 \\\\ndecreased on CD8+ T cells during mpox, before normalizing \\\\nback to pre-mpox levels\\\", \\\"id\\\": null, \\\"title\\\": \\\"Impact of Monkeypox Virus\\\", \\\"filepath\\\": \\\"Rai_et_al_2023.pdf\\\", \\\"url\\\": \\\"https://cloudlabtestin4367221741.blob.core.windows.net/fileupload-publicationsv5/Rai_et_al_2023.pdf\\\", \\\"metadata\\\": {\\\"chunking\\\": \\\"orignal document size=984. Scores=7.2544794Org Highlight count=70.\\\"}, \\\"chunk_id\\\": \\\"2\\\"}, {\\\"content\\\": \\\"However, soon thereafter, a nonhealing papule \\\\ndeveloped on her face and progressively became larger, leading \\\\nher to seek evaluation at a local emergency room on 31 August \\\\n2022. She was labeled as having cellulitis and was discharged \\\\nbut had a swab sample collected from the lesion, which was \\\\nsent for mpox testing. Subsequently, she was notified of a pos-\\\\nitive mpox result, but as she had no other symptoms, she con-\\\\ntacted the NIH for additional testing and follow-up.\\\\nThe study participant was seen at the NIH on 6 September \\\\n2022. She was afebrile and hemodynamically stable. On review \\\\nof symptoms, she was asymptomatic. Physical examination re-\\\\nvealed a circular, raised lesion with well-demarcated borders \\\\nbordering on the parotid and submental region (Figure 1C). \\\\nTwo additional lesions were also observed, one on the study \\\\nparticipant\\u2019s right forearm and the other on her left wrist \\\\n(Figure 1C). No inguinal, genital, or other eruptions were no-\\\\nticed elsewhere. Bloodwork revealed a white blood cell count \\\\nof 9.38 \\u00d7 103/\\u00b5L with 54% neutrophils (absolute neutrophil \\\\ncount, 5.07 \\u00d7 103/\\u00b5L) and 39% lymphocytes (absolute lympho-\\\\ncyte count, 3.66 \\u00d7 103/\\u00b5L). Her electrolyte levels and renal \\\\nfunction were normal. The only aberration noted was an eleva-\\\\ntion in her liver function test results; her alanine aminotrans-\\\\nferase level was elevated to 106 U/L (normal range 0\\u201355 U/L) \\\\nand her aspartate aminotransferase level was 49 U/L (normal \\\\nrange 5\\u201334 U/L).\\\\nOn 6 September 2022, the lesions were swabbed, and they \\\\ntested positive for mpox. The study participant denied any ex-\\\\nposure to mpox and was sexually active only with her husband, \\\\nand no household contacts had any symptoms suggestive of \\\\nmpox. She works as a restaurant cook and denied any sick con-\\\\ntacts. Given the mild nature of her symptoms and per the CDC \\\\nguidelines at that time, the decision was made to not proceed \\\\nwith any mpox treatment strategies but to continue monitor-\\\\ning. The study participant agreed with this plan, and follow-up \\\\nwas conducted using phone interviews. When she returned on \\\\n28 September 2022, her facial lesion had dramatically improved \\\\n(Figure 1D), with similar improvement in her wrist and fore-\\\\narm lesions.\\\\nThere are sparse data pertaining to the dynamics of immu-\\\\nnologic and HIV virologic changes following mpox infection \\\\nin PLWH. Of note, a recent study demonstrated that mpox is \\\\ncharacterized by an early expansion of activated effector \\\\nCD4+ and CD8+ T cells [2]; however, longitudinal analyses of \\\\nB cells, plasma biomarkers, and the HIV reservoir before, dur-\\\\ning, and after mpox have been lacking. Therefore, we conduct-\\\\ned immunologic analyses of our study participant\\u2019s peripheral \\\\nblood lymphocytes (B and T cells) and plasma biomarkers be-\\\\nfore, during, and after her mpox infection.\\\\nBRIEF REPORT \\u2022 JID 2023:228 (1 August) \\u2022 271\\\\nD\\\\now\\\\nnloaded from\\\\n https://academ\\\\nic.oup.com\\\\n/jid/article/228/3/270/7109857 by guest on 08 Septem\\\\nber 2023\\\\nThere was a marked decrease (8.7%) in circulating total B \\\\ncells after mpox, with a concomitant increase in plasmablasts \\\\n(PBs), followed by normalization of both total B cells and \\\\nPBs by week 4 (Figure 2A). Further analysis of PBs revealed a \\\\npredominantly IgA isotype before mpox infection \\\\n(Figure 2B), consistent with immunoglobulin distribution at \\\\nsteady state in healthy donors and in PLWH with aviremia \\\\n[8]. Following mpox, there was a strong and persistent shift \\\\nto IgG among circulating PBs (Figure 2B), consistent with the \\\\ninduction of an immune response to viral antigens [9, 10].\\\\nThe proportion of T-cell subsets and phenotypic markers of \\\\nCD4+ and CD8+ T cells also underwent changes during the \\\\ncourse of infection (Figure 2C and 2D)\\\", \\\"id\\\": null, \\\"title\\\": \\\"Impact of Monkeypox Virus\\\", \\\"filepath\\\": \\\"Rai_et_al_2023.pdf\\\", \\\"url\\\": \\\"https://cloudlabtestin4367221741.blob.core.windows.net/fileupload-publicationsv5/Rai_et_al_2023.pdf\\\", \\\"metadata\\\": {\\\"chunking\\\": \\\"orignal document size=1008. Scores=5.774801Org Highlight count=74.\\\"}, \\\"chunk_id\\\": \\\"4\\\"}], \\\"intent\\\": \\\"What were some of the clinical presentations of MPOX on patients with HIV?\\\"}\",\n          \"end_turn\": false\n        },\n        {\n          \"index\": 1,\n          \"role\": \"assistant\",\n          \"content\": \"According to the retrieved documents, there is no information available on the clinical presentations of MPOX on patients with HIV. Therefore, I cannot provide a response with citation to your question.\",\n          \"end_turn\": true\n        }\n      ]\n    }\n  ]\n}\n"
        }
      ],
      "execution_count": 69,
      "metadata": {
        "jupyter": {
          "source_hidden": false,
          "outputs_hidden": false
        },
        "nteract": {
          "transient": {
            "deleting": false
          }
        },
        "gather": {
          "logged": 1696353881797
        }
      }
    },
    {
      "cell_type": "markdown",
      "source": [
        "That's it! Go back to the README to review additional resources. "
      ],
      "metadata": {
        "nteract": {
          "transient": {
            "deleting": false
          }
        }
      }
    },
    {
      "cell_type": "code",
      "source": [],
      "outputs": [],
      "execution_count": null,
      "metadata": {
        "jupyter": {
          "source_hidden": false,
          "outputs_hidden": false
        },
        "nteract": {
          "transient": {
            "deleting": false
          }
        }
      }
    }
  ],
  "metadata": {
    "kernelspec": {
      "name": "python310-sdkv2",
      "language": "python",
      "display_name": "Python 3.10 - SDK v2"
    },
    "language_info": {
      "name": "python",
      "version": "3.10.9",
      "mimetype": "text/x-python",
      "codemirror_mode": {
        "name": "ipython",
        "version": 3
      },
      "pygments_lexer": "ipython3",
      "nbconvert_exporter": "python",
      "file_extension": ".py"
    },
    "microsoft": {
      "ms_spell_check": {
        "ms_spell_check_language": "en"
      },
      "host": {
        "AzureML": {
          "notebookHasBeenCompleted": true
        }
      }
    },
    "kernel_info": {
      "name": "python310-sdkv2"
    },
    "nteract": {
      "version": "nteract-front-end@1.0.0"
    }
  },
  "nbformat": 4,
  "nbformat_minor": 2
}