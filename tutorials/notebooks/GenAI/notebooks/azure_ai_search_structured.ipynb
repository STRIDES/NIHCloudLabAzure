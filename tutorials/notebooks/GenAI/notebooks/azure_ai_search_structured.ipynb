{
  "cells": [
    {
      "cell_type": "markdown",
      "source": [
        "# Indexing Delimited Files on Azure AI Search"
      ],
      "metadata": {},
      "id": "403555d2-4703-4bec-94ec-9d17ec656d62"
    },
    {
      "cell_type": "markdown",
      "source": [
        "### Install Necessary Tools"
      ],
      "metadata": {},
      "id": "7efcb4f8-f3a1-4ea8-b826-012ceb733f4a"
    },
    {
      "cell_type": "code",
      "source": [
        "pip install -U \"langchain\" \"openai\""
      ],
      "outputs": [],
      "execution_count": null,
      "metadata": {
        "scrolled": true,
        "tags": []
      },
      "id": "adb68924-26c9-4e6e-9880-2ea371c8d188"
    },
    {
      "cell_type": "code",
      "source": [
        "pip install azure-search-documents --pre --upgrade"
      ],
      "outputs": [],
      "execution_count": null,
      "metadata": {
        "scrolled": true,
        "tags": []
      },
      "id": "5292c962-637e-4169-ad77-2e62da44596f"
    },
    {
      "cell_type": "markdown",
      "source": [
        "### Import Kaggle Dataset"
      ],
      "metadata": {},
      "id": "687d3dea-ea4c-4eea-8e5a-cff78c0340de"
    },
    {
      "cell_type": "code",
      "source": [
        "import pandas as pd\n",
        "import numpy as np \n",
        "# reading the csv file using read_csv\n",
        "# storing the data frame in variable called df\n",
        "df = pd.read_csv('ds_salaries.csv')\n",
        " \n",
        "df.head()"
      ],
      "outputs": [],
      "execution_count": null,
      "metadata": {},
      "id": "ed34bedc-6339-4991-96b3-e9a2ac62b1a4"
    },
    {
      "cell_type": "markdown",
      "source": [
        "Add an ID to each row of your data this will be the key in our Index."
      ],
      "metadata": {},
      "id": "95c03a9b-9719-45e3-9bca-31fd310eb916"
    },
    {
      "cell_type": "code",
      "source": [
        "df['ID'] = np.arange(df.shape[0]).astype(str)\n",
        "df.head()"
      ],
      "outputs": [],
      "execution_count": null,
      "metadata": {},
      "id": "a41c5439-4b14-41a3-aaf4-c6f704c9f232"
    },
    {
      "cell_type": "markdown",
      "source": [
        "Now we will make our data into strings and convert our dataframe into json format."
      ],
      "metadata": {},
      "id": "c0b1da1e-4eda-47c3-a8d4-d04df80b0476"
    },
    {
      "cell_type": "code",
      "source": [
        "df= df.astype(str)\n",
        "df_json = df.to_json(orient=\"records\")"
      ],
      "outputs": [],
      "execution_count": null,
      "metadata": {},
      "id": "fd4c4453-d958-49ad-9b72-34a829ac0437"
    },
    {
      "cell_type": "markdown",
      "source": [
        "### Connect to our Azure Open AI Models"
      ],
      "metadata": {},
      "id": "a532eacf-ff14-44fc-b703-844f83c846bd"
    },
    {
      "cell_type": "markdown",
      "source": [
        "Here we are setting the keys and endpoint to our OpenAI models as environmental variables which will help us connect to our LLM model which in this case is **gpt-35-turbo**."
      ],
      "metadata": {},
      "id": "6bfd4382-8809-4bb8-8940-68d81f8fba44"
    },
    {
      "cell_type": "code",
      "source": [
        "os.environ[\"AZURE_OPENAI_ENDPOINT\"] = \"<Your Azure Endpoint>\"\n",
        "os.environ[\"AZURE_OPENAI_KEY\"] = \"<Your Azure AI Key>\""
      ],
      "outputs": [],
      "execution_count": null,
      "metadata": {},
      "id": "0377877c-73f4-4508-9a4f-9ddcd14bea96"
    },
    {
      "cell_type": "code",
      "source": [
        "import os\n",
        "from openai import AzureOpenAI\n",
        "    \n",
        "client = AzureOpenAI(\n",
        "    api_key=os.getenv(\"AZURE_OPENAI_KEY\"),  \n",
        "    api_version=\"2023-05-15\",\n",
        "    azure_endpoint = os.getenv(\"AZURE_OPENAI_ENDPOINT\")\n",
        "    )"
      ],
      "outputs": [],
      "execution_count": null,
      "metadata": {},
      "id": "b1c91f3a-5a72-463c-b869-a970ae1139df"
    },
    {
      "cell_type": "markdown",
      "source": [
        "### Create Azure AI Search Service"
      ],
      "metadata": {},
      "id": "daa799c1-f587-4c9b-b1bc-7bc37415ca12"
    },
    {
      "cell_type": "markdown",
      "source": [
        "Enter in the name you would like for your AI Search service and index along with the name of your resource group and the location you would like your index to be held in."
      ],
      "metadata": {},
      "id": "da8b68e1-2488-41d1-be51-436cb47e5c86"
    },
    {
      "cell_type": "code",
      "source": [
        "service_name='<Your Service Name>'\n",
        "index_name = '<Your Index Name>'\n",
        "location = 'eastus2'\n",
        "resource_group = '<Your Resource Group>'"
      ],
      "outputs": [],
      "execution_count": null,
      "metadata": {},
      "id": "711cbd23-73ab-4ce0-b499-0f254549a7c3"
    },
    {
      "cell_type": "markdown",
      "source": [
        "Create your Azure AI Search service."
      ],
      "metadata": {},
      "id": "19a076aa-d2c1-4709-aec2-9532e6457e48"
    },
    {
      "cell_type": "code",
      "source": [
        "! az search service create --name {service_name} --sku free --location {location} --resource-group {resource_group} --partition-count 1 --replica-count 1"
      ],
      "outputs": [],
      "execution_count": null,
      "metadata": {},
      "id": "bf4f5c0e-3fb6-4f79-aaf4-a8f9920af590"
    },
    {
      "cell_type": "markdown",
      "source": [
        "Save the key to a json file and then we will save the value to our **search_key** variable."
      ],
      "metadata": {},
      "id": "94fd109a-2729-47b3-9327-811e2ce598b9"
    },
    {
      "cell_type": "code",
      "source": [
        "! az search admin-key show --resource-group {resource_group} --service-name {service_name} > keys.json"
      ],
      "outputs": [],
      "execution_count": null,
      "metadata": {},
      "id": "cd6b4dee-0ea2-434e-b98f-55d22e871f36"
    },
    {
      "cell_type": "code",
      "source": [
        "import json\n",
        "with open('keys.json', mode='r') as f:\n",
        "    data = json.load(f)\n",
        "search_key = data[\"primaryKey\"]"
      ],
      "outputs": [],
      "execution_count": null,
      "metadata": {},
      "id": "b0c98d31-ebad-4e66-adef-abcbe222f317"
    },
    {
      "cell_type": "markdown",
      "source": [
        "### Create Azure AI Index"
      ],
      "metadata": {},
      "id": "c4cc7e03-d080-4486-9e0d-30167fec715a"
    },
    {
      "cell_type": "markdown",
      "source": [
        "Import the necessary tools to create our index and the fields."
      ],
      "metadata": {},
      "id": "dc9f88db-a05a-499a-891b-be32ec44cd97"
    },
    {
      "cell_type": "code",
      "source": [
        "import os\n",
        "\n",
        "from azure.search.documents import SearchClient\n",
        "from azure.core.credentials import AzureKeyCredential\n",
        "from azure.search.documents.indexes import SearchIndexClient, SearchIndexerClient\n",
        "#from azure.search.documents.models import VectorizedQuery\n",
        "from azure.search.documents.indexes.models import (\n",
        "    SimpleField,\n",
        "    SearchField,\n",
        "    SearchableField,\n",
        "    SearchFieldDataType,\n",
        "    SearchIndexerDataContainer,\n",
        "    SearchIndexerDataSourceConnection,\n",
        "    SearchIndex,\n",
        "    SearchIndexer,\n",
        "    TextWeights,\n",
        "    VectorSearch,\n",
        "    VectorSearchProfile,\n",
        "    HnswAlgorithmConfiguration,\n",
        "    ComplexField\n",
        "    #IndexingParametersConfiguration\n",
        ")"
      ],
      "outputs": [],
      "execution_count": null,
      "metadata": {},
      "id": "094c737d-d941-4681-ac78-e499f9b96805"
    },
    {
      "cell_type": "markdown",
      "source": [
        "Create your index client to pass on information about our index too."
      ],
      "metadata": {},
      "id": "5e836161-1910-411a-8dfa-7820c0fc9bd0"
    },
    {
      "cell_type": "code",
      "source": [
        "endpoint = \"https://{}.search.windows.net/\".format(service_name)\n",
        "index_client = SearchIndexClient(endpoint, AzureKeyCredential(index_key))"
      ],
      "outputs": [],
      "execution_count": null,
      "metadata": {},
      "id": "80e780b6-a045-4779-876a-2b36e4dc5225"
    },
    {
      "cell_type": "markdown",
      "source": [
        "Next you will add in the field names for your index which are based on the names of your columns. Notice that the Key is our 'ID' column and is a string also that even columns that hold integers will be strings this is because we want to beable to search and retrieve data from our index which can only be done so if our data is in string format."
      ],
      "metadata": {},
      "id": "defec19a-0a82-413d-9a6b-13b9db5873b7"
    },
    {
      "cell_type": "code",
      "source": [
        "fields = [\n",
        "    SimpleField(\n",
        "        name=\"ID\",\n",
        "        type=SearchFieldDataType.String,\n",
        "        key=True,\n",
        "    ),\n",
        "    SearchField(\n",
        "        name=\"work_year\",\n",
        "        type=SearchFieldDataType.String,\n",
        "        searchable=True,\n",
        "    ),\n",
        "    SearchableField(\n",
        "        name=\"experience_level\",\n",
        "        type=SearchFieldDataType.String,\n",
        "        searchable=True,\n",
        "    ),    \n",
        "    SearchField(\n",
        "        name=\"employment_type\",\n",
        "        type=SearchFieldDataType.String,\n",
        "        searchable=True,\n",
        "    ),\n",
        "    SearchField(\n",
        "        name=\"job_title\",\n",
        "        type=SearchFieldDataType.String,\n",
        "        searchable=True,\n",
        "    ),\n",
        "    SearchField(\n",
        "        name=\"salary\",\n",
        "        type=SearchFieldDataType.String,\n",
        "        searchable=True,\n",
        "    ),\n",
        "    SearchField(\n",
        "        name=\"salary_currency\",\n",
        "        type=SearchFieldDataType.String,\n",
        "        searchable=True,\n",
        "    ),\n",
        "    SearchField(\n",
        "        name=\"salary_in_usd\",\n",
        "        type=SearchFieldDataType.String,\n",
        "        searchable=True,\n",
        "    ),\n",
        "    SearchField(\n",
        "        name=\"employee_residence\",\n",
        "        type=SearchFieldDataType.String,\n",
        "        searchable=True,\n",
        "    ),\n",
        "    SearchField(\n",
        "        name=\"remote_ratio\",\n",
        "        type=SearchFieldDataType.String,\n",
        "        searchable=True,\n",
        "    ),\n",
        "    SearchField(\n",
        "        name=\"company_location\",\n",
        "        type=SearchFieldDataType.String,\n",
        "        searchable=True,\n",
        "    ),\n",
        "    SearchField(\n",
        "        name=\"company_size\",\n",
        "        type=SearchFieldDataType.String,\n",
        "        searchable=True,\n",
        "    )\n",
        "]\n",
        "    \n",
        "#set our index values\n",
        "index = SearchIndex(name=index_name, fields=fields)\n",
        "#create our index\n",
        "index_client.create_index(index)\n"
      ],
      "outputs": [],
      "execution_count": null,
      "metadata": {},
      "id": "a949a7ec-6a28-43ed-b16a-0245836a187f"
    },
    {
      "cell_type": "markdown",
      "source": [
        "### Upload Data to our Index"
      ],
      "metadata": {},
      "id": "07ed728d-2af3-42d5-843c-e94266ce66d1"
    },
    {
      "cell_type": "markdown",
      "source": [
        "Here we are creating a search client that will allow us to upload our data to our index and query our index."
      ],
      "metadata": {},
      "id": "b65aece2-ad33-4600-b862-a1eedd2cf50a"
    },
    {
      "cell_type": "code",
      "source": [
        "from azure.search.documents import SearchClient\n",
        "search_client = SearchClient(endpoint, index_name, AzureKeyCredential(index_key))"
      ],
      "outputs": [],
      "execution_count": null,
      "metadata": {},
      "id": "4a3273fd-748e-41ee-ad42-6af31db93855"
    },
    {
      "cell_type": "markdown",
      "source": [
        "Next we will convert our dataset into a JSON object because even though it is in JSON form its still labeled as a Python object. After that we will upload each row of our data or in this case, since we are now dealing with JSON, each group as a seprate document. This will help our index easily query our data and only retrieve the groups that hold similar text to the our query."
      ],
      "metadata": {},
      "id": "e2dd96f4-439e-4c74-877e-6da7b10331ff"
    },
    {
      "cell_type": "code",
      "source": [
        "import json\n",
        " \n",
        "# Convert JSON data to a Python object\n",
        "data = json.loads(df_json)\n",
        "\n",
        "# Iterate through the JSON array\n",
        "for item in data:\n",
        "    result = search_client.upload_documents(documents=[item])\n",
        "\n",
        "print(\"Upload of new document succeeded: {}\".format(result[0].succeeded))"
      ],
      "outputs": [],
      "execution_count": null,
      "metadata": {
        "scrolled": true,
        "tags": []
      },
      "id": "d151e32a-ad57-4cf4-9928-8f8933e98959"
    },
    {
      "cell_type": "markdown",
      "source": [
        "### Interacting with our Model"
      ],
      "metadata": {},
      "id": "fc10ce7e-e9da-443e-9cd1-7cad4faa740b"
    },
    {
      "cell_type": "markdown",
      "source": [
        "First we will write our query, run any of the ones below or make your own. That query will be passed to our index which will then give us results of documents that held similar text from our query."
      ],
      "metadata": {},
      "id": "b9630cd3-98ab-456f-8e3e-095ce6982143"
    },
    {
      "cell_type": "code",
      "source": [
        "query = \"Count how many ML Engineers are there?\""
      ],
      "outputs": [],
      "execution_count": null,
      "metadata": {},
      "id": "7f13c6e1-c719-4fae-a097-f6d7f5081caa"
    },
    {
      "cell_type": "code",
      "source": [
        "query = \"please count how many rows are in my data?\""
      ],
      "outputs": [],
      "execution_count": null,
      "metadata": {},
      "id": "4dcf66f5-a0e1-4b9b-9b55-532b9ead433a"
    },
    {
      "cell_type": "code",
      "source": [
        "query = \"Count how many employees worked in 2020?\""
      ],
      "outputs": [],
      "execution_count": null,
      "metadata": {},
      "id": "34af7401-4c24-4e5f-888a-990e72e82afc"
    },
    {
      "cell_type": "markdown",
      "source": [
        "Here is where we will input our query and then fix the formating of the reqults in a way that our model can understand. This will mean first gathering our results in a list, converting that list into JSON format so that it is also a string, and then adding quotes around spaces for the model to better decipher our query results."
      ],
      "metadata": {},
      "id": "011eedb0-663e-4e4b-9304-f2a810ad5992"
    },
    {
      "cell_type": "code",
      "source": [
        "search_results = list(search_client.search(query))\n",
        "search_results = json.dumps(search_results)\n",
        "context=' '.join('\"{}\"'.format(word) for word in search_results.split(' '))"
      ],
      "outputs": [],
      "execution_count": null,
      "metadata": {},
      "id": "fb124ba1-a73a-4249-96df-3f628e9f715a"
    },
    {
      "cell_type": "markdown",
      "source": [
        "We will then pass our context and query to our model via a message."
      ],
      "metadata": {},
      "id": "e4a6d875-4ce3-4a0d-a803-d65eebb17821"
    },
    {
      "cell_type": "code",
      "source": [
        "response = client.chat.completions.create(\n",
        "    model=\"gpt-4\",\n",
        "    messages=[\n",
        "        {\"role\": \"system\", \"content\": \"You are a helpful assistant who answers only from the given Context and answers the question from the given Query. If you are asked to count then you must count all of the occurances mentioned.\"},\n",
        "        {\"role\": \"user\", \"content\": \"Context: \"+ context + \"\\n\\n Query: \" + query}\n",
        "    ],\n",
        "    #max_tokens=100,\n",
        "    temperature=1,\n",
        "    top_p=1,\n",
        "    n=1\n",
        ")"
      ],
      "outputs": [],
      "execution_count": null,
      "metadata": {
        "scrolled": true,
        "tags": []
      },
      "id": "69ff5e34-c60f-4e99-a3f3-29950c6e617b"
    },
    {
      "cell_type": "markdown",
      "source": [
        "Now we can see our results!"
      ],
      "metadata": {},
      "id": "2cf1549d-fea7-4a37-b94c-269724c7c519"
    },
    {
      "cell_type": "code",
      "source": [
        "response.choices[0].message.content"
      ],
      "outputs": [],
      "execution_count": null,
      "metadata": {},
      "id": "1541aa6e-e09c-4151-9938-c42c063e6dcf"
    }
  ],
  "metadata": {
    "kernelspec": {
      "name": "python38-azureml",
      "language": "python",
      "display_name": "Python 3.8 - AzureML"
    },
    "language_info": {
      "name": "python",
      "version": "3.8.5",
      "mimetype": "text/x-python",
      "codemirror_mode": {
        "name": "ipython",
        "version": 3
      },
      "pygments_lexer": "ipython3",
      "nbconvert_exporter": "python",
      "file_extension": ".py"
    },
    "microsoft": {
      "ms_spell_check": {
        "ms_spell_check_language": "en"
      }
    },
    "kernel_info": {
      "name": "python38-azureml"
    },
    "nteract": {
      "version": "nteract-front-end@1.0.0"
    }
  },
  "nbformat": 4,
  "nbformat_minor": 5
}